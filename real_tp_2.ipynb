{
 "cells": [
  {
   "cell_type": "code",
   "execution_count": 1,
   "metadata": {},
   "outputs": [],
   "source": [
    "from os.path import join\n",
    "import numpy as np\n",
    "import pandas as pd\n",
    "import matplotlib.pyplot as plt"
   ]
  },
  {
   "cell_type": "code",
   "execution_count": 2,
   "metadata": {
    "scrolled": true
   },
   "outputs": [
    {
     "data": {
      "text/html": [
       "<div>\n",
       "<style scoped>\n",
       "    .dataframe tbody tr th:only-of-type {\n",
       "        vertical-align: middle;\n",
       "    }\n",
       "\n",
       "    .dataframe tbody tr th {\n",
       "        vertical-align: top;\n",
       "    }\n",
       "\n",
       "    .dataframe thead th {\n",
       "        text-align: right;\n",
       "    }\n",
       "</style>\n",
       "<table border=\"1\" class=\"dataframe\">\n",
       "  <thead>\n",
       "    <tr style=\"text-align: right;\">\n",
       "      <th></th>\n",
       "      <th>대여일자</th>\n",
       "      <th>대여시간</th>\n",
       "      <th>대여소번호</th>\n",
       "      <th>대여소명</th>\n",
       "      <th>대여구분코드</th>\n",
       "      <th>성별</th>\n",
       "      <th>연령대코드</th>\n",
       "      <th>이용건수</th>\n",
       "      <th>운동량</th>\n",
       "      <th>탄소량</th>\n",
       "      <th>이동거리</th>\n",
       "      <th>사용시간</th>\n",
       "    </tr>\n",
       "  </thead>\n",
       "  <tbody>\n",
       "    <tr>\n",
       "      <th>0</th>\n",
       "      <td>2019-09-02</td>\n",
       "      <td>13</td>\n",
       "      <td>212</td>\n",
       "      <td>212. 여의도역 1번출구 옆</td>\n",
       "      <td>정기권</td>\n",
       "      <td>F</td>\n",
       "      <td>70대~</td>\n",
       "      <td>3</td>\n",
       "      <td>123.3</td>\n",
       "      <td>1.11</td>\n",
       "      <td>4790</td>\n",
       "      <td>67</td>\n",
       "    </tr>\n",
       "    <tr>\n",
       "      <th>1</th>\n",
       "      <td>2019-09-13</td>\n",
       "      <td>12</td>\n",
       "      <td>279</td>\n",
       "      <td>279. 영등포 푸르지오 아파트</td>\n",
       "      <td>정기권</td>\n",
       "      <td>NaN</td>\n",
       "      <td>70대~</td>\n",
       "      <td>3</td>\n",
       "      <td>88.75</td>\n",
       "      <td>0.72</td>\n",
       "      <td>3070</td>\n",
       "      <td>26</td>\n",
       "    </tr>\n",
       "  </tbody>\n",
       "</table>\n",
       "</div>"
      ],
      "text/plain": [
       "         대여일자  대여시간  대여소번호               대여소명 대여구분코드   성별 연령대코드  이용건수    운동량  \\\n",
       "0  2019-09-02    13    212   212. 여의도역 1번출구 옆    정기권    F  70대~     3  123.3   \n",
       "1  2019-09-13    12    279  279. 영등포 푸르지오 아파트    정기권  NaN  70대~     3  88.75   \n",
       "\n",
       "    탄소량  이동거리  사용시간  \n",
       "0  1.11  4790    67  \n",
       "1  0.72  3070    26  "
      ]
     },
     "execution_count": 2,
     "metadata": {},
     "output_type": "execute_result"
    }
   ],
   "source": [
    "#Data Import\n",
    "real_data=pd.read_csv(join('data','Seoul_public_bike.csv'), encoding='CP949')\n",
    "real_data.head(2) #table로 보여주어 직관적이다."
   ]
  },
  {
   "cell_type": "markdown",
   "metadata": {},
   "source": [
    "## data preprocessing"
   ]
  },
  {
   "cell_type": "code",
   "execution_count": 3,
   "metadata": {},
   "outputs": [],
   "source": [
    "genderless  = real_data.drop(real_data[real_data['성별'].notnull()].index)\n",
    "gender = real_data\n",
    "gender = gender.dropna(subset=['성별'])"
   ]
  },
  {
   "cell_type": "code",
   "execution_count": 4,
   "metadata": {
    "scrolled": false
   },
   "outputs": [
    {
     "data": {
      "text/html": [
       "<div>\n",
       "<style scoped>\n",
       "    .dataframe tbody tr th:only-of-type {\n",
       "        vertical-align: middle;\n",
       "    }\n",
       "\n",
       "    .dataframe tbody tr th {\n",
       "        vertical-align: top;\n",
       "    }\n",
       "\n",
       "    .dataframe thead th {\n",
       "        text-align: right;\n",
       "    }\n",
       "</style>\n",
       "<table border=\"1\" class=\"dataframe\">\n",
       "  <thead>\n",
       "    <tr style=\"text-align: right;\">\n",
       "      <th></th>\n",
       "      <th>성별</th>\n",
       "      <th>이용건수</th>\n",
       "      <th>운동량</th>\n",
       "      <th>탄소량</th>\n",
       "      <th>이동거리</th>\n",
       "      <th>사용시간</th>\n",
       "    </tr>\n",
       "  </thead>\n",
       "  <tbody>\n",
       "    <tr>\n",
       "      <th>0</th>\n",
       "      <td>F</td>\n",
       "      <td>3</td>\n",
       "      <td>123.3</td>\n",
       "      <td>1.11</td>\n",
       "      <td>4790</td>\n",
       "      <td>67</td>\n",
       "    </tr>\n",
       "    <tr>\n",
       "      <th>2</th>\n",
       "      <td>M</td>\n",
       "      <td>3</td>\n",
       "      <td>820.87</td>\n",
       "      <td>5.07</td>\n",
       "      <td>21820</td>\n",
       "      <td>168</td>\n",
       "    </tr>\n",
       "    <tr>\n",
       "      <th>3</th>\n",
       "      <td>F</td>\n",
       "      <td>3</td>\n",
       "      <td>21.11</td>\n",
       "      <td>0.19</td>\n",
       "      <td>820</td>\n",
       "      <td>74</td>\n",
       "    </tr>\n",
       "    <tr>\n",
       "      <th>4</th>\n",
       "      <td>F</td>\n",
       "      <td>2</td>\n",
       "      <td>472.59</td>\n",
       "      <td>3.08</td>\n",
       "      <td>13260</td>\n",
       "      <td>112</td>\n",
       "    </tr>\n",
       "    <tr>\n",
       "      <th>6</th>\n",
       "      <td>F</td>\n",
       "      <td>2</td>\n",
       "      <td>79.54</td>\n",
       "      <td>0.71</td>\n",
       "      <td>3090</td>\n",
       "      <td>15</td>\n",
       "    </tr>\n",
       "  </tbody>\n",
       "</table>\n",
       "</div>"
      ],
      "text/plain": [
       "  성별  이용건수     운동량   탄소량   이동거리  사용시간\n",
       "0  F     3   123.3  1.11   4790    67\n",
       "2  M     3  820.87  5.07  21820   168\n",
       "3  F     3   21.11  0.19    820    74\n",
       "4  F     2  472.59  3.08  13260   112\n",
       "6  F     2   79.54  0.71   3090    15"
      ]
     },
     "execution_count": 4,
     "metadata": {},
     "output_type": "execute_result"
    }
   ],
   "source": [
    "dataset = gender[['성별','이용건수', '운동량', '탄소량','이동거리','사용시간']]\n",
    "dataset.head(5)"
   ]
  },
  {
   "cell_type": "code",
   "execution_count": 5,
   "metadata": {
    "scrolled": true
   },
   "outputs": [
    {
     "data": {
      "text/plain": [
       "(433931, 6)"
      ]
     },
     "execution_count": 5,
     "metadata": {},
     "output_type": "execute_result"
    }
   ],
   "source": [
    "dataset.shape"
   ]
  },
  {
   "cell_type": "code",
   "execution_count": 6,
   "metadata": {
    "scrolled": true
   },
   "outputs": [
    {
     "name": "stdout",
     "output_type": "stream",
     "text": [
      "성별\n",
      "F    168698\n",
      "M    264494\n",
      "f       326\n",
      "m       413\n",
      "dtype: int64\n"
     ]
    }
   ],
   "source": [
    "class_counts = dataset.groupby('성별').size()\n",
    "print(class_counts)"
   ]
  },
  {
   "cell_type": "code",
   "execution_count": 7,
   "metadata": {},
   "outputs": [
    {
     "name": "stderr",
     "output_type": "stream",
     "text": [
      "/usr/local/lib/python3.6/dist-packages/pandas/core/indexing.py:966: SettingWithCopyWarning: \n",
      "A value is trying to be set on a copy of a slice from a DataFrame.\n",
      "Try using .loc[row_indexer,col_indexer] = value instead\n",
      "\n",
      "See the caveats in the documentation: https://pandas.pydata.org/pandas-docs/stable/user_guide/indexing.html#returning-a-view-versus-a-copy\n",
      "  self.obj[item] = s\n"
     ]
    }
   ],
   "source": [
    "dataset.loc[dataset['성별'] == 'f', '성별'] = 'F'\n",
    "dataset.loc[dataset['성별'] == 'm', '성별'] = 'M'"
   ]
  },
  {
   "cell_type": "code",
   "execution_count": 8,
   "metadata": {
    "scrolled": true
   },
   "outputs": [
    {
     "data": {
      "text/plain": [
       "성별      object\n",
       "이용건수     int64\n",
       "운동량     object\n",
       "탄소량     object\n",
       "이동거리     int64\n",
       "사용시간     int64\n",
       "dtype: object"
      ]
     },
     "execution_count": 8,
     "metadata": {},
     "output_type": "execute_result"
    }
   ],
   "source": [
    "dataset.dtypes"
   ]
  },
  {
   "cell_type": "code",
   "execution_count": 9,
   "metadata": {},
   "outputs": [],
   "source": [
    "idx_n = dataset[dataset['운동량']=='\\\\N'].index\n",
    "dataset = dataset.drop(idx_n)\n",
    "dataset['운동량'] = pd.to_numeric(dataset['운동량'])"
   ]
  },
  {
   "cell_type": "code",
   "execution_count": 10,
   "metadata": {},
   "outputs": [],
   "source": [
    "idx_n = dataset[dataset['탄소량']=='\\\\N'].index\n",
    "dataset = dataset.drop(idx_n)\n",
    "dataset['탄소량'] = pd.to_numeric(dataset['탄소량'])"
   ]
  },
  {
   "cell_type": "code",
   "execution_count": 11,
   "metadata": {},
   "outputs": [],
   "source": [
    "dataset['탄소량'] = pd.to_numeric(dataset['탄소량'] / dataset['이용건수'])\n",
    "dataset['운동량'] = pd.to_numeric(dataset['운동량'] / dataset['이용건수'])\n",
    "dataset['사용시간'] = pd.to_numeric(dataset['사용시간'] / dataset['이용건수'])\n",
    "dataset['이동거리'] = pd.to_numeric(dataset['이동거리'] / dataset['이용건수'])\n",
    "del dataset['이용건수']"
   ]
  },
  {
   "cell_type": "code",
   "execution_count": 12,
   "metadata": {
    "scrolled": false
   },
   "outputs": [
    {
     "name": "stdout",
     "output_type": "stream",
     "text": [
      "           운동량       탄소량      이동거리      사용시간\n",
      "운동량   1.000000  0.981873  0.981873  0.209461\n",
      "탄소량   0.981873  1.000000  1.000000  0.216580\n",
      "이동거리  0.981873  1.000000  1.000000  0.216581\n",
      "사용시간  0.209461  0.216580  0.216581  1.000000\n"
     ]
    }
   ],
   "source": [
    "correlations = dataset.corr(method='pearson')\n",
    "print(correlations)"
   ]
  },
  {
   "cell_type": "code",
   "execution_count": 13,
   "metadata": {},
   "outputs": [],
   "source": [
    "%matplotlib inline \n",
    "#notebook을 실행한 브라우저에서 바로 그림을 볼 수 있게 해주는 것\n",
    "import matplotlib.pyplot as plt"
   ]
  },
  {
   "cell_type": "code",
   "execution_count": 14,
   "metadata": {
    "scrolled": true
   },
   "outputs": [
    {
     "data": {
      "text/html": [
       "<div>\n",
       "<style scoped>\n",
       "    .dataframe tbody tr th:only-of-type {\n",
       "        vertical-align: middle;\n",
       "    }\n",
       "\n",
       "    .dataframe tbody tr th {\n",
       "        vertical-align: top;\n",
       "    }\n",
       "\n",
       "    .dataframe thead th {\n",
       "        text-align: right;\n",
       "    }\n",
       "</style>\n",
       "<table border=\"1\" class=\"dataframe\">\n",
       "  <thead>\n",
       "    <tr style=\"text-align: right;\">\n",
       "      <th></th>\n",
       "      <th>성별</th>\n",
       "      <th>운동량</th>\n",
       "      <th>탄소량</th>\n",
       "      <th>이동거리</th>\n",
       "      <th>사용시간</th>\n",
       "    </tr>\n",
       "  </thead>\n",
       "  <tbody>\n",
       "    <tr>\n",
       "      <th>0</th>\n",
       "      <td>F</td>\n",
       "      <td>41.100000</td>\n",
       "      <td>0.370000</td>\n",
       "      <td>1596.666667</td>\n",
       "      <td>22.333333</td>\n",
       "    </tr>\n",
       "    <tr>\n",
       "      <th>2</th>\n",
       "      <td>M</td>\n",
       "      <td>273.623333</td>\n",
       "      <td>1.690000</td>\n",
       "      <td>7273.333333</td>\n",
       "      <td>56.000000</td>\n",
       "    </tr>\n",
       "    <tr>\n",
       "      <th>3</th>\n",
       "      <td>F</td>\n",
       "      <td>7.036667</td>\n",
       "      <td>0.063333</td>\n",
       "      <td>273.333333</td>\n",
       "      <td>24.666667</td>\n",
       "    </tr>\n",
       "    <tr>\n",
       "      <th>4</th>\n",
       "      <td>F</td>\n",
       "      <td>236.295000</td>\n",
       "      <td>1.540000</td>\n",
       "      <td>6630.000000</td>\n",
       "      <td>56.000000</td>\n",
       "    </tr>\n",
       "    <tr>\n",
       "      <th>6</th>\n",
       "      <td>F</td>\n",
       "      <td>39.770000</td>\n",
       "      <td>0.355000</td>\n",
       "      <td>1545.000000</td>\n",
       "      <td>7.500000</td>\n",
       "    </tr>\n",
       "    <tr>\n",
       "      <th>7</th>\n",
       "      <td>M</td>\n",
       "      <td>31.275000</td>\n",
       "      <td>0.285000</td>\n",
       "      <td>1215.000000</td>\n",
       "      <td>8.500000</td>\n",
       "    </tr>\n",
       "    <tr>\n",
       "      <th>8</th>\n",
       "      <td>F</td>\n",
       "      <td>18.020000</td>\n",
       "      <td>0.165000</td>\n",
       "      <td>700.000000</td>\n",
       "      <td>36.000000</td>\n",
       "    </tr>\n",
       "    <tr>\n",
       "      <th>10</th>\n",
       "      <td>F</td>\n",
       "      <td>27.800000</td>\n",
       "      <td>0.275000</td>\n",
       "      <td>1170.000000</td>\n",
       "      <td>30.000000</td>\n",
       "    </tr>\n",
       "    <tr>\n",
       "      <th>12</th>\n",
       "      <td>F</td>\n",
       "      <td>19.800000</td>\n",
       "      <td>0.230000</td>\n",
       "      <td>1000.000000</td>\n",
       "      <td>6.500000</td>\n",
       "    </tr>\n",
       "    <tr>\n",
       "      <th>13</th>\n",
       "      <td>F</td>\n",
       "      <td>22.265000</td>\n",
       "      <td>0.200000</td>\n",
       "      <td>865.000000</td>\n",
       "      <td>25.000000</td>\n",
       "    </tr>\n",
       "    <tr>\n",
       "      <th>14</th>\n",
       "      <td>F</td>\n",
       "      <td>73.065000</td>\n",
       "      <td>0.955000</td>\n",
       "      <td>4100.000000</td>\n",
       "      <td>44.500000</td>\n",
       "    </tr>\n",
       "  </tbody>\n",
       "</table>\n",
       "</div>"
      ],
      "text/plain": [
       "   성별         운동량       탄소량         이동거리       사용시간\n",
       "0   F   41.100000  0.370000  1596.666667  22.333333\n",
       "2   M  273.623333  1.690000  7273.333333  56.000000\n",
       "3   F    7.036667  0.063333   273.333333  24.666667\n",
       "4   F  236.295000  1.540000  6630.000000  56.000000\n",
       "6   F   39.770000  0.355000  1545.000000   7.500000\n",
       "7   M   31.275000  0.285000  1215.000000   8.500000\n",
       "8   F   18.020000  0.165000   700.000000  36.000000\n",
       "10  F   27.800000  0.275000  1170.000000  30.000000\n",
       "12  F   19.800000  0.230000  1000.000000   6.500000\n",
       "13  F   22.265000  0.200000   865.000000  25.000000\n",
       "14  F   73.065000  0.955000  4100.000000  44.500000"
      ]
     },
     "execution_count": 14,
     "metadata": {},
     "output_type": "execute_result"
    }
   ],
   "source": [
    "dataset.head(11)"
   ]
  },
  {
   "cell_type": "code",
   "execution_count": 15,
   "metadata": {
    "scrolled": true
   },
   "outputs": [
    {
     "data": {
      "text/plain": [
       "성별       object\n",
       "운동량     float64\n",
       "탄소량     float64\n",
       "이동거리    float64\n",
       "사용시간    float64\n",
       "dtype: object"
      ]
     },
     "execution_count": 15,
     "metadata": {},
     "output_type": "execute_result"
    }
   ],
   "source": [
    "dataset.dtypes"
   ]
  },
  {
   "cell_type": "code",
   "execution_count": 16,
   "metadata": {},
   "outputs": [
    {
     "name": "stderr",
     "output_type": "stream",
     "text": [
      "/usr/local/lib/python3.6/dist-packages/matplotlib/backends/backend_agg.py:214: RuntimeWarning: Glyph 50868 missing from current font.\n",
      "  font.set_text(s, 0.0, flags=flags)\n",
      "/usr/local/lib/python3.6/dist-packages/matplotlib/backends/backend_agg.py:214: RuntimeWarning: Glyph 46041 missing from current font.\n",
      "  font.set_text(s, 0.0, flags=flags)\n",
      "/usr/local/lib/python3.6/dist-packages/matplotlib/backends/backend_agg.py:214: RuntimeWarning: Glyph 47049 missing from current font.\n",
      "  font.set_text(s, 0.0, flags=flags)\n",
      "/usr/local/lib/python3.6/dist-packages/matplotlib/backends/backend_agg.py:214: RuntimeWarning: Glyph 53444 missing from current font.\n",
      "  font.set_text(s, 0.0, flags=flags)\n",
      "/usr/local/lib/python3.6/dist-packages/matplotlib/backends/backend_agg.py:214: RuntimeWarning: Glyph 49548 missing from current font.\n",
      "  font.set_text(s, 0.0, flags=flags)\n",
      "/usr/local/lib/python3.6/dist-packages/matplotlib/backends/backend_agg.py:214: RuntimeWarning: Glyph 51060 missing from current font.\n",
      "  font.set_text(s, 0.0, flags=flags)\n",
      "/usr/local/lib/python3.6/dist-packages/matplotlib/backends/backend_agg.py:214: RuntimeWarning: Glyph 44144 missing from current font.\n",
      "  font.set_text(s, 0.0, flags=flags)\n",
      "/usr/local/lib/python3.6/dist-packages/matplotlib/backends/backend_agg.py:214: RuntimeWarning: Glyph 47532 missing from current font.\n",
      "  font.set_text(s, 0.0, flags=flags)\n",
      "/usr/local/lib/python3.6/dist-packages/matplotlib/backends/backend_agg.py:214: RuntimeWarning: Glyph 49324 missing from current font.\n",
      "  font.set_text(s, 0.0, flags=flags)\n",
      "/usr/local/lib/python3.6/dist-packages/matplotlib/backends/backend_agg.py:214: RuntimeWarning: Glyph 50857 missing from current font.\n",
      "  font.set_text(s, 0.0, flags=flags)\n",
      "/usr/local/lib/python3.6/dist-packages/matplotlib/backends/backend_agg.py:214: RuntimeWarning: Glyph 49884 missing from current font.\n",
      "  font.set_text(s, 0.0, flags=flags)\n",
      "/usr/local/lib/python3.6/dist-packages/matplotlib/backends/backend_agg.py:214: RuntimeWarning: Glyph 44036 missing from current font.\n",
      "  font.set_text(s, 0.0, flags=flags)\n",
      "/usr/local/lib/python3.6/dist-packages/matplotlib/backends/backend_agg.py:183: RuntimeWarning: Glyph 50868 missing from current font.\n",
      "  font.set_text(s, 0, flags=flags)\n",
      "/usr/local/lib/python3.6/dist-packages/matplotlib/backends/backend_agg.py:183: RuntimeWarning: Glyph 46041 missing from current font.\n",
      "  font.set_text(s, 0, flags=flags)\n",
      "/usr/local/lib/python3.6/dist-packages/matplotlib/backends/backend_agg.py:183: RuntimeWarning: Glyph 47049 missing from current font.\n",
      "  font.set_text(s, 0, flags=flags)\n",
      "/usr/local/lib/python3.6/dist-packages/matplotlib/backends/backend_agg.py:183: RuntimeWarning: Glyph 53444 missing from current font.\n",
      "  font.set_text(s, 0, flags=flags)\n",
      "/usr/local/lib/python3.6/dist-packages/matplotlib/backends/backend_agg.py:183: RuntimeWarning: Glyph 49548 missing from current font.\n",
      "  font.set_text(s, 0, flags=flags)\n",
      "/usr/local/lib/python3.6/dist-packages/matplotlib/backends/backend_agg.py:183: RuntimeWarning: Glyph 51060 missing from current font.\n",
      "  font.set_text(s, 0, flags=flags)\n",
      "/usr/local/lib/python3.6/dist-packages/matplotlib/backends/backend_agg.py:183: RuntimeWarning: Glyph 44144 missing from current font.\n",
      "  font.set_text(s, 0, flags=flags)\n",
      "/usr/local/lib/python3.6/dist-packages/matplotlib/backends/backend_agg.py:183: RuntimeWarning: Glyph 47532 missing from current font.\n",
      "  font.set_text(s, 0, flags=flags)\n",
      "/usr/local/lib/python3.6/dist-packages/matplotlib/backends/backend_agg.py:183: RuntimeWarning: Glyph 49324 missing from current font.\n",
      "  font.set_text(s, 0, flags=flags)\n",
      "/usr/local/lib/python3.6/dist-packages/matplotlib/backends/backend_agg.py:183: RuntimeWarning: Glyph 50857 missing from current font.\n",
      "  font.set_text(s, 0, flags=flags)\n",
      "/usr/local/lib/python3.6/dist-packages/matplotlib/backends/backend_agg.py:183: RuntimeWarning: Glyph 49884 missing from current font.\n",
      "  font.set_text(s, 0, flags=flags)\n",
      "/usr/local/lib/python3.6/dist-packages/matplotlib/backends/backend_agg.py:183: RuntimeWarning: Glyph 44036 missing from current font.\n",
      "  font.set_text(s, 0, flags=flags)\n"
     ]
    },
    {
     "data": {
      "image/png": "[encoded data removed]",
      "text/plain": [
       "<Figure size 432x288 with 16 Axes>"
      ]
     },
     "metadata": {
      "needs_background": "light"
     },
     "output_type": "display_data"
    }
   ],
   "source": [
    "from pandas.plotting import scatter_matrix\n",
    "scatter_matrix(dataset)\n",
    "plt.show()"
   ]
  },
  {
   "cell_type": "code",
   "execution_count": 17,
   "metadata": {},
   "outputs": [
    {
     "name": "stdout",
     "output_type": "stream",
     "text": [
      "(432447, 5)\n",
      "(100, 5)\n",
      "(432347, 5)\n"
     ]
    }
   ],
   "source": [
    "test = dataset.iloc[-100:,:]\n",
    "train = dataset.iloc[:-100,:]\n",
    "\n",
    "print(dataset.shape)\n",
    "print(test.shape)\n",
    "print(train.shape)"
   ]
  },
  {
   "cell_type": "code",
   "execution_count": 18,
   "metadata": {},
   "outputs": [],
   "source": [
    "# 혹은 scikit learn에서 제공해주는 함수를 사용할 수도 있음\n",
    "## )r you can use just this \n",
    "from sklearn.model_selection import train_test_split\n",
    "trnx, tstx, trny, tsty = train_test_split(train.iloc[:,1:], train.iloc[:,0], test_size=0.3, random_state=123)"
   ]
  },
  {
   "cell_type": "code",
   "execution_count": 19,
   "metadata": {},
   "outputs": [
    {
     "data": {
      "text/plain": [
       "array([[1, 0],\n",
       "       [1, 0],\n",
       "       [0, 1],\n",
       "       ...,\n",
       "       [0, 1],\n",
       "       [1, 0],\n",
       "       [0, 1]], dtype=uint8)"
      ]
     },
     "execution_count": 19,
     "metadata": {},
     "output_type": "execute_result"
    }
   ],
   "source": [
    "from sklearn.preprocessing import LabelEncoder\n",
    "\n",
    "encoder =  LabelEncoder()\n",
    "y1 = encoder.fit_transform(trny)\n",
    "trny = pd.get_dummies(y1).values\n",
    "trny"
   ]
  },
  {
   "cell_type": "code",
   "execution_count": 20,
   "metadata": {
    "scrolled": true
   },
   "outputs": [
    {
     "data": {
      "text/plain": [
       "array([[1, 0],\n",
       "       [0, 1],\n",
       "       [0, 1],\n",
       "       ...,\n",
       "       [0, 1],\n",
       "       [1, 0],\n",
       "       [0, 1]], dtype=uint8)"
      ]
     },
     "execution_count": 20,
     "metadata": {},
     "output_type": "execute_result"
    }
   ],
   "source": [
    "encoder =  LabelEncoder()\n",
    "y1 = encoder.fit_transform(tsty)\n",
    "tsty = pd.get_dummies(y1).values\n",
    "tsty"
   ]
  },
  {
   "cell_type": "code",
   "execution_count": 21,
   "metadata": {
    "scrolled": true
   },
   "outputs": [
    {
     "data": {
      "text/plain": [
       "((302642, 4), (129705, 4), (302642, 2), (129705, 2))"
      ]
     },
     "execution_count": 21,
     "metadata": {},
     "output_type": "execute_result"
    }
   ],
   "source": [
    "trnx.shape, tstx.shape, trny.shape, tsty.shape"
   ]
  },
  {
   "cell_type": "code",
   "execution_count": 22,
   "metadata": {},
   "outputs": [],
   "source": [
    "from sklearn.preprocessing import MinMaxScaler\n",
    "scaler = MinMaxScaler()\n",
    "trnx = scaler.fit_transform(trnx)\n",
    "tstx = scaler.transform(tstx)"
   ]
  },
  {
   "cell_type": "code",
   "execution_count": 23,
   "metadata": {},
   "outputs": [
    {
     "name": "stdout",
     "output_type": "stream",
     "text": [
      "Model: \"sequential\"\n",
      "_________________________________________________________________\n",
      "Layer (type)                 Output Shape              Param #   \n",
      "=================================================================\n",
      "dense (Dense)                (None, 10)                50        \n",
      "_________________________________________________________________\n",
      "dense_1 (Dense)              (None, 20)                220       \n",
      "_________________________________________________________________\n",
      "dense_2 (Dense)              (None, 10)                210       \n",
      "_________________________________________________________________\n",
      "dense_3 (Dense)              (None, 2)                 22        \n",
      "=================================================================\n",
      "Total params: 502\n",
      "Trainable params: 502\n",
      "Non-trainable params: 0\n",
      "_________________________________________________________________\n"
     ]
    }
   ],
   "source": [
    "from tensorflow.keras.models import Sequential\n",
    "from tensorflow.keras.layers import Dense, Dropout\n",
    "from tensorflow.keras.optimizers import Adam\n",
    "\n",
    "model = Sequential()\n",
    "\n",
    "model.add(Dense(10, kernel_initializer='uniform',input_shape=(4,),activation='relu'))\n",
    "model.add(Dense(20, kernel_initializer='uniform',activation='relu'))\n",
    "model.add(Dense(10, kernel_initializer='uniform',activation='relu'))\n",
    "model.add(Dense(2, kernel_initializer='uniform',activation='sigmoid'))\n",
    "\n",
    "model.compile(loss='categorical_crossentropy', optimizer='Adam', metrics=['accuracy'])\n",
    "\n",
    "model.summary()"
   ]
  },
  {
   "cell_type": "code",
   "execution_count": 24,
   "metadata": {
    "scrolled": true
   },
   "outputs": [
    {
     "name": "stdout",
     "output_type": "stream",
     "text": [
      "Train on 302642 samples, validate on 129705 samples\n",
      "Epoch 1/50\n",
      "302642/302642 [==============================] - 81s 267us/sample - loss: 0.6395 - accuracy: 0.6360 - val_loss: 0.5704 - val_accuracy: 0.7019\n",
      "Epoch 2/50\n",
      "302642/302642 [==============================] - 88s 291us/sample - loss: 0.5097 - accuracy: 0.7594 - val_loss: 0.4885 - val_accuracy: 0.7607\n",
      "Epoch 3/50\n",
      "302642/302642 [==============================] - 99s 327us/sample - loss: 0.4964 - accuracy: 0.7660 - val_loss: 0.4692 - val_accuracy: 0.7933\n",
      "Epoch 4/50\n",
      "302642/302642 [==============================] - 81s 267us/sample - loss: 0.4834 - accuracy: 0.7710 - val_loss: 0.4555 - val_accuracy: 0.7945\n",
      "Epoch 5/50\n",
      "302642/302642 [==============================] - 91s 301us/sample - loss: 0.4730 - accuracy: 0.7723 - val_loss: 0.5627 - val_accuracy: 0.7390\n",
      "Epoch 6/50\n",
      "302642/302642 [==============================] - 81s 268us/sample - loss: 0.4661 - accuracy: 0.7748 - val_loss: 0.5070 - val_accuracy: 0.7226\n",
      "Epoch 7/50\n",
      "302642/302642 [==============================] - 83s 274us/sample - loss: 0.4630 - accuracy: 0.7760 - val_loss: 0.4700 - val_accuracy: 0.7771\n",
      "Epoch 8/50\n",
      "302642/302642 [==============================] - 109s 360us/sample - loss: 0.4584 - accuracy: 0.7768 - val_loss: 0.4811 - val_accuracy: 0.7688\n",
      "Epoch 9/50\n",
      "302642/302642 [==============================] - 107s 353us/sample - loss: 0.4516 - accuracy: 0.7797 - val_loss: 0.4523 - val_accuracy: 0.7831\n",
      "Epoch 10/50\n",
      "302642/302642 [==============================] - 81s 267us/sample - loss: 0.4483 - accuracy: 0.7812 - val_loss: 0.4741 - val_accuracy: 0.7715\n",
      "Epoch 11/50\n",
      "302642/302642 [==============================] - 100s 330us/sample - loss: 0.4461 - accuracy: 0.7816 - val_loss: 0.4263 - val_accuracy: 0.7966\n",
      "Epoch 12/50\n",
      "302642/302642 [==============================] - 94s 310us/sample - loss: 0.4445 - accuracy: 0.7833 - val_loss: 0.4428 - val_accuracy: 0.7899\n",
      "Epoch 13/50\n",
      "302642/302642 [==============================] - 113s 373us/sample - loss: 0.4429 - accuracy: 0.7834 - val_loss: 0.4357 - val_accuracy: 0.7918\n",
      "Epoch 14/50\n",
      "302642/302642 [==============================] - 107s 353us/sample - loss: 0.4416 - accuracy: 0.7840 - val_loss: 0.4896 - val_accuracy: 0.7722\n",
      "Epoch 15/50\n",
      "302642/302642 [==============================] - 92s 303us/sample - loss: 0.4410 - accuracy: 0.7846 - val_loss: 0.4253 - val_accuracy: 0.7962\n",
      "Epoch 16/50\n",
      "302642/302642 [==============================] - 78s 259us/sample - loss: 0.4405 - accuracy: 0.7851 - val_loss: 0.4241 - val_accuracy: 0.7936\n",
      "Epoch 17/50\n",
      "302642/302642 [==============================] - 99s 328us/sample - loss: 0.4391 - accuracy: 0.7855 - val_loss: 0.4230 - val_accuracy: 0.7929\n",
      "Epoch 18/50\n",
      "302642/302642 [==============================] - 108s 356us/sample - loss: 0.4384 - accuracy: 0.7860 - val_loss: 0.4331 - val_accuracy: 0.7849\n",
      "Epoch 19/50\n",
      "302642/302642 [==============================] - 112s 371us/sample - loss: 0.4381 - accuracy: 0.7859 - val_loss: 0.4440 - val_accuracy: 0.7681\n",
      "Epoch 20/50\n",
      "302642/302642 [==============================] - 114s 376us/sample - loss: 0.4366 - accuracy: 0.7872 - val_loss: 0.4577 - val_accuracy: 0.7830\n",
      "Epoch 21/50\n",
      "302642/302642 [==============================] - 107s 354us/sample - loss: 0.4365 - accuracy: 0.7870 - val_loss: 0.4317 - val_accuracy: 0.7846\n",
      "Epoch 22/50\n",
      "302642/302642 [==============================] - 83s 273us/sample - loss: 0.4365 - accuracy: 0.7871 - val_loss: 0.4503 - val_accuracy: 0.7844\n",
      "Epoch 23/50\n",
      "302642/302642 [==============================] - 92s 303us/sample - loss: 0.4351 - accuracy: 0.7872 - val_loss: 0.4211 - val_accuracy: 0.7957\n",
      "Epoch 24/50\n",
      "302642/302642 [==============================] - 89s 294us/sample - loss: 0.4350 - accuracy: 0.7876 - val_loss: 0.4374 - val_accuracy: 0.7743\n",
      "Epoch 25/50\n",
      "302642/302642 [==============================] - 82s 270us/sample - loss: 0.4352 - accuracy: 0.7877 - val_loss: 0.4259 - val_accuracy: 0.7903\n",
      "Epoch 26/50\n",
      "302642/302642 [==============================] - 85s 281us/sample - loss: 0.4350 - accuracy: 0.7875 - val_loss: 0.4239 - val_accuracy: 0.7985\n",
      "Epoch 27/50\n",
      "302642/302642 [==============================] - 98s 323us/sample - loss: 0.4343 - accuracy: 0.7889 - val_loss: 0.4234 - val_accuracy: 0.7949\n",
      "Epoch 28/50\n",
      "302642/302642 [==============================] - 97s 321us/sample - loss: 0.4339 - accuracy: 0.7887 - val_loss: 0.4274 - val_accuracy: 0.7885\n",
      "Epoch 29/50\n",
      "302642/302642 [==============================] - 85s 282us/sample - loss: 0.4334 - accuracy: 0.7884 - val_loss: 0.4419 - val_accuracy: 0.7940\n",
      "Epoch 30/50\n",
      "302642/302642 [==============================] - 76s 252us/sample - loss: 0.4329 - accuracy: 0.7888 - val_loss: 0.4385 - val_accuracy: 0.7905\n",
      "Epoch 31/50\n",
      "302642/302642 [==============================] - 91s 301us/sample - loss: 0.4328 - accuracy: 0.7892 - val_loss: 0.4303 - val_accuracy: 0.7941\n",
      "Epoch 32/50\n",
      "302642/302642 [==============================] - 103s 341us/sample - loss: 0.4328 - accuracy: 0.7887 - val_loss: 0.4315 - val_accuracy: 0.7951\n",
      "Epoch 33/50\n",
      "302642/302642 [==============================] - 92s 303us/sample - loss: 0.4328 - accuracy: 0.7886 - val_loss: 0.4303 - val_accuracy: 0.7961\n",
      "Epoch 34/50\n",
      "302642/302642 [==============================] - 91s 300us/sample - loss: 0.4325 - accuracy: 0.7882 - val_loss: 0.4195 - val_accuracy: 0.7948\n",
      "Epoch 35/50\n",
      "302642/302642 [==============================] - 92s 304us/sample - loss: 0.4329 - accuracy: 0.7885 - val_loss: 0.4233 - val_accuracy: 0.7984\n",
      "Epoch 36/50\n",
      "302642/302642 [==============================] - 97s 320us/sample - loss: 0.4313 - accuracy: 0.7894 - val_loss: 0.4844 - val_accuracy: 0.7764\n",
      "Epoch 37/50\n",
      "302642/302642 [==============================] - 103s 341us/sample - loss: 0.4316 - accuracy: 0.7893 - val_loss: 0.4255 - val_accuracy: 0.7877\n",
      "Epoch 38/50\n",
      "302642/302642 [==============================] - 104s 343us/sample - loss: 0.4306 - accuracy: 0.7896 - val_loss: 0.4190 - val_accuracy: 0.7957\n",
      "Epoch 39/50\n",
      "302642/302642 [==============================] - 111s 368us/sample - loss: 0.4296 - accuracy: 0.7892 - val_loss: 0.4350 - val_accuracy: 0.7950\n",
      "Epoch 40/50\n",
      "302642/302642 [==============================] - 81s 268us/sample - loss: 0.4303 - accuracy: 0.7902 - val_loss: 0.4187 - val_accuracy: 0.7974\n",
      "Epoch 41/50\n",
      "302642/302642 [==============================] - 81s 267us/sample - loss: 0.4297 - accuracy: 0.7891 - val_loss: 0.4486 - val_accuracy: 0.7701\n",
      "Epoch 42/50\n",
      "302642/302642 [==============================] - 81s 269us/sample - loss: 0.4294 - accuracy: 0.7896 - val_loss: 0.4190 - val_accuracy: 0.7962\n",
      "Epoch 43/50\n",
      "302642/302642 [==============================] - 95s 314us/sample - loss: 0.4295 - accuracy: 0.7898 - val_loss: 0.4213 - val_accuracy: 0.7982\n",
      "Epoch 44/50\n",
      "302642/302642 [==============================] - 88s 292us/sample - loss: 0.4295 - accuracy: 0.7902 - val_loss: 0.4176 - val_accuracy: 0.7974\n",
      "Epoch 45/50\n",
      "302642/302642 [==============================] - 94s 310us/sample - loss: 0.4289 - accuracy: 0.7904 - val_loss: 0.4315 - val_accuracy: 0.7834\n",
      "Epoch 46/50\n",
      "302642/302642 [==============================] - 101s 333us/sample - loss: 0.4292 - accuracy: 0.7905 - val_loss: 0.4227 - val_accuracy: 0.7905\n",
      "Epoch 47/50\n",
      "302642/302642 [==============================] - 95s 314us/sample - loss: 0.4287 - accuracy: 0.7905 - val_loss: 0.4176 - val_accuracy: 0.7929\n",
      "Epoch 48/50\n",
      "302642/302642 [==============================] - 81s 268us/sample - loss: 0.4282 - accuracy: 0.7911 - val_loss: 0.4411 - val_accuracy: 0.7895\n",
      "Epoch 49/50\n",
      "302642/302642 [==============================] - 86s 284us/sample - loss: 0.4280 - accuracy: 0.7910 - val_loss: 0.4323 - val_accuracy: 0.7888\n",
      "Epoch 50/50\n",
      "302642/302642 [==============================] - 82s 270us/sample - loss: 0.4276 - accuracy: 0.7912 - val_loss: 0.4313 - val_accuracy: 0.7801\n"
     ]
    }
   ],
   "source": [
    "hist = model.fit(trnx, trny, validation_data=(tstx, tsty), batch_size=10, epochs=50)"
   ]
  },
  {
   "cell_type": "code",
   "execution_count": 25,
   "metadata": {
    "scrolled": false
   },
   "outputs": [
    {
     "data": {
      "image/png": "[encoded data removed]",
      "text/plain": [
       "<Figure size 864x576 with 1 Axes>"
      ]
     },
     "metadata": {
      "needs_background": "light"
     },
     "output_type": "display_data"
    }
   ],
   "source": [
    "import matplotlib.pyplot as plt\n",
    "%matplotlib inline\n",
    "\n",
    "plt.figure(figsize=(12,8))\n",
    "plt.plot(hist.history['accuracy'])\n",
    "plt.plot(hist.history['val_accuracy'])\n",
    "plt.legend(['loss','val_loss', 'accuracy','val_accuracy'])\n",
    "plt.grid()\n",
    "plt.show()"
   ]
  },
  {
   "cell_type": "code",
   "execution_count": 26,
   "metadata": {},
   "outputs": [
    {
     "data": {
      "image/png": "[encoded data removed]",
      "text/plain": [
       "<Figure size 864x576 with 1 Axes>"
      ]
     },
     "metadata": {
      "needs_background": "light"
     },
     "output_type": "display_data"
    }
   ],
   "source": [
    "import matplotlib.pyplot as plt\n",
    "%matplotlib inline\n",
    "\n",
    "plt.figure(figsize=(12,8))\n",
    "plt.plot(hist.history['loss'])\n",
    "plt.plot(hist.history['val_loss'])\n",
    "plt.legend(['loss','val_loss', 'accuracy','val_accuracy'])\n",
    "plt.grid()\n",
    "plt.show()"
   ]
  },
  {
   "cell_type": "markdown",
   "metadata": {},
   "source": [
    "## 30개의 test data를 이용해 예측이 잘 되는지 정확도 확인"
   ]
  },
  {
   "cell_type": "code",
   "execution_count": 27,
   "metadata": {},
   "outputs": [],
   "source": [
    "test_x = test.iloc[:,1:]\n",
    "test_y = test.iloc[:,0]"
   ]
  },
  {
   "cell_type": "code",
   "execution_count": 28,
   "metadata": {
    "scrolled": false
   },
   "outputs": [],
   "source": [
    "encoder =  LabelEncoder()\n",
    "y1 = encoder.fit_transform(test_y)\n",
    "test_y = pd.get_dummies(y1).values"
   ]
  },
  {
   "cell_type": "code",
   "execution_count": 29,
   "metadata": {},
   "outputs": [],
   "source": [
    "test_x = scaler.transform(test_x)"
   ]
  },
  {
   "cell_type": "code",
   "execution_count": 30,
   "metadata": {},
   "outputs": [
    {
     "name": "stdout",
     "output_type": "stream",
     "text": [
      "100/100 [==============================] - 0s 66us/sample - loss: 0.6354 - accuracy: 0.6600\n",
      "Accuracy = 0.66\n"
     ]
    }
   ],
   "source": [
    "loss, accuracy = model.evaluate(test_x, test_y)\n",
    "print(\"Accuracy = {:.2f}\".format(accuracy))"
   ]
  },
  {
   "cell_type": "code",
   "execution_count": 31,
   "metadata": {
    "scrolled": false
   },
   "outputs": [
    {
     "name": "stdout",
     "output_type": "stream",
     "text": [
      "Predict : M , Real : M\n",
      "Predict : M , Real : M\n",
      "Predict : F , Real : M\n",
      "Predict : M , Real : M\n",
      "Predict : M , Real : M\n",
      "Predict : F , Real : M\n",
      "Predict : M , Real : M\n",
      "Predict : M , Real : M\n",
      "Predict : M , Real : F\n",
      "Predict : M , Real : F\n",
      "Predict : M , Real : F\n",
      "Predict : M , Real : M\n",
      "Predict : F , Real : M\n",
      "Predict : M , Real : F\n",
      "Predict : F , Real : F\n",
      "Predict : F , Real : F\n",
      "Predict : F , Real : F\n",
      "Predict : F , Real : F\n",
      "Predict : F , Real : F\n",
      "Predict : M , Real : F\n",
      "Predict : M , Real : M\n",
      "Predict : F , Real : M\n",
      "Predict : M , Real : M\n",
      "Predict : F , Real : M\n",
      "Predict : M , Real : M\n",
      "Predict : F , Real : F\n",
      "Predict : F , Real : F\n",
      "Predict : F , Real : F\n",
      "Predict : F , Real : M\n",
      "Predict : F , Real : F\n",
      "Predict : M , Real : F\n",
      "Predict : F , Real : F\n",
      "Predict : F , Real : F\n",
      "Predict : M , Real : F\n",
      "Predict : F , Real : F\n",
      "Predict : F , Real : F\n",
      "Predict : M , Real : M\n",
      "Predict : M , Real : M\n",
      "Predict : M , Real : M\n",
      "Predict : F , Real : M\n",
      "Predict : M , Real : M\n",
      "Predict : M , Real : M\n",
      "Predict : M , Real : M\n",
      "Predict : F , Real : M\n",
      "Predict : F , Real : M\n",
      "Predict : F , Real : F\n",
      "Predict : F , Real : F\n",
      "Predict : M , Real : F\n",
      "Predict : F , Real : F\n",
      "Predict : F , Real : M\n",
      "Predict : F , Real : M\n",
      "Predict : F , Real : F\n",
      "Predict : F , Real : F\n",
      "Predict : M , Real : F\n",
      "Predict : F , Real : F\n",
      "Predict : F , Real : M\n",
      "Predict : M , Real : M\n",
      "Predict : M , Real : M\n",
      "Predict : M , Real : M\n",
      "Predict : M , Real : M\n",
      "Predict : M , Real : M\n",
      "Predict : F , Real : M\n",
      "Predict : F , Real : F\n",
      "Predict : M , Real : F\n",
      "Predict : M , Real : M\n",
      "Predict : F , Real : F\n",
      "Predict : F , Real : F\n",
      "Predict : M , Real : F\n",
      "Predict : F , Real : F\n",
      "Predict : F , Real : F\n",
      "Predict : M , Real : M\n",
      "Predict : M , Real : M\n",
      "Predict : F , Real : M\n",
      "Predict : M , Real : M\n",
      "Predict : F , Real : M\n",
      "Predict : M , Real : M\n",
      "Predict : M , Real : M\n",
      "Predict : F , Real : M\n",
      "Predict : M , Real : M\n",
      "Predict : M , Real : M\n",
      "Predict : M , Real : F\n",
      "Predict : F , Real : M\n",
      "Predict : F , Real : M\n",
      "Predict : F , Real : F\n",
      "Predict : F , Real : F\n",
      "Predict : F , Real : F\n",
      "Predict : F , Real : M\n",
      "Predict : M , Real : M\n",
      "Predict : M , Real : M\n",
      "Predict : M , Real : M\n",
      "Predict : M , Real : M\n",
      "Predict : M , Real : M\n",
      "Predict : M , Real : M\n",
      "Predict : F , Real : M\n",
      "Predict : M , Real : M\n",
      "Predict : M , Real : M\n",
      "Predict : F , Real : M\n",
      "Predict : F , Real : F\n",
      "Predict : M , Real : F\n",
      "Predict : M , Real : M\n",
      "0.66\n"
     ]
    }
   ],
   "source": [
    "from sklearn.metrics import accuracy_score\n",
    "pred_out = model.predict(test_x)\n",
    "\n",
    "real =[]\n",
    "pred_out_idex=[]\n",
    "class_names=['F','M']\n",
    "\n",
    "for i,pred in zip(range(0, len(pred_out)), pred_out) :\n",
    "    print(\"Predict :\",class_names[np.argmax(pred)], \", Real :\", class_names[test_y[i,1]])\n",
    "    real.append(class_names.index(class_names[test_y[i,1]]))\n",
    "    pred_out_idex.append(np.argmax(pred))\n",
    "    \n",
    "# get the accuracy\n",
    "print (accuracy_score(real, pred_out_idex))"
   ]
  },
  {
   "cell_type": "markdown",
   "metadata": {},
   "source": [
    "### 성별이 없는 데이터를 input으로 이용해 성별 측정 후 기존 데이터와 합쳐 csv파일 생성"
   ]
  },
  {
   "cell_type": "code",
   "execution_count": 32,
   "metadata": {},
   "outputs": [],
   "source": [
    "idx_n = genderless[genderless['운동량']=='\\\\N'].index\n",
    "genderless = genderless.drop(idx_n)\n",
    "genderless['운동량'] = pd.to_numeric(genderless['운동량'])"
   ]
  },
  {
   "cell_type": "code",
   "execution_count": 33,
   "metadata": {},
   "outputs": [],
   "source": [
    "idx_n = genderless[genderless['탄소량']=='\\\\N'].index\n",
    "genderless = genderless.drop(idx_n)\n",
    "genderless['탄소량'] = pd.to_numeric(genderless['탄소량'])"
   ]
  },
  {
   "cell_type": "code",
   "execution_count": 44,
   "metadata": {},
   "outputs": [
    {
     "data": {
      "text/html": [
       "<div>\n",
       "<style scoped>\n",
       "    .dataframe tbody tr th:only-of-type {\n",
       "        vertical-align: middle;\n",
       "    }\n",
       "\n",
       "    .dataframe tbody tr th {\n",
       "        vertical-align: top;\n",
       "    }\n",
       "\n",
       "    .dataframe thead th {\n",
       "        text-align: right;\n",
       "    }\n",
       "</style>\n",
       "<table border=\"1\" class=\"dataframe\">\n",
       "  <thead>\n",
       "    <tr style=\"text-align: right;\">\n",
       "      <th></th>\n",
       "      <th>성별</th>\n",
       "      <th>이용건수</th>\n",
       "      <th>운동량</th>\n",
       "      <th>탄소량</th>\n",
       "      <th>이동거리</th>\n",
       "      <th>사용시간</th>\n",
       "    </tr>\n",
       "  </thead>\n",
       "  <tbody>\n",
       "    <tr>\n",
       "      <th>1</th>\n",
       "      <td>F</td>\n",
       "      <td>3</td>\n",
       "      <td>88.75</td>\n",
       "      <td>0.72</td>\n",
       "      <td>3070</td>\n",
       "      <td>26</td>\n",
       "    </tr>\n",
       "    <tr>\n",
       "      <th>5</th>\n",
       "      <td>F</td>\n",
       "      <td>2</td>\n",
       "      <td>57.74</td>\n",
       "      <td>0.56</td>\n",
       "      <td>2430</td>\n",
       "      <td>33</td>\n",
       "    </tr>\n",
       "    <tr>\n",
       "      <th>9</th>\n",
       "      <td>F</td>\n",
       "      <td>2</td>\n",
       "      <td>5843.38</td>\n",
       "      <td>42.79</td>\n",
       "      <td>184450</td>\n",
       "      <td>97</td>\n",
       "    </tr>\n",
       "    <tr>\n",
       "      <th>11</th>\n",
       "      <td>F</td>\n",
       "      <td>2</td>\n",
       "      <td>106.44</td>\n",
       "      <td>1.04</td>\n",
       "      <td>4480</td>\n",
       "      <td>40</td>\n",
       "    </tr>\n",
       "    <tr>\n",
       "      <th>23</th>\n",
       "      <td>F</td>\n",
       "      <td>2</td>\n",
       "      <td>3129.86</td>\n",
       "      <td>26.20</td>\n",
       "      <td>112910</td>\n",
       "      <td>106</td>\n",
       "    </tr>\n",
       "  </tbody>\n",
       "</table>\n",
       "</div>"
      ],
      "text/plain": [
       "   성별  이용건수      운동량    탄소량    이동거리  사용시간\n",
       "1   F     3    88.75   0.72    3070    26\n",
       "5   F     2    57.74   0.56    2430    33\n",
       "9   F     2  5843.38  42.79  184450    97\n",
       "11  F     2   106.44   1.04    4480    40\n",
       "23  F     2  3129.86  26.20  112910   106"
      ]
     },
     "execution_count": 44,
     "metadata": {},
     "output_type": "execute_result"
    }
   ],
   "source": [
    "pred_dataset = genderless[['성별','이용건수', '운동량', '탄소량','이동거리','사용시간']]\n",
    "pred_dataset.head(5)"
   ]
  },
  {
   "cell_type": "code",
   "execution_count": 45,
   "metadata": {
    "scrolled": true
   },
   "outputs": [
    {
     "data": {
      "text/plain": [
       "(564216, 6)"
      ]
     },
     "execution_count": 45,
     "metadata": {},
     "output_type": "execute_result"
    }
   ],
   "source": [
    "pred_dataset.shape"
   ]
  },
  {
   "cell_type": "code",
   "execution_count": 46,
   "metadata": {},
   "outputs": [
    {
     "name": "stderr",
     "output_type": "stream",
     "text": [
      "/home/una/.local/lib/python3.6/site-packages/ipykernel_launcher.py:1: SettingWithCopyWarning: \n",
      "A value is trying to be set on a copy of a slice from a DataFrame.\n",
      "Try using .loc[row_indexer,col_indexer] = value instead\n",
      "\n",
      "See the caveats in the documentation: https://pandas.pydata.org/pandas-docs/stable/user_guide/indexing.html#returning-a-view-versus-a-copy\n",
      "  \"\"\"Entry point for launching an IPython kernel.\n",
      "/home/una/.local/lib/python3.6/site-packages/ipykernel_launcher.py:2: SettingWithCopyWarning: \n",
      "A value is trying to be set on a copy of a slice from a DataFrame.\n",
      "Try using .loc[row_indexer,col_indexer] = value instead\n",
      "\n",
      "See the caveats in the documentation: https://pandas.pydata.org/pandas-docs/stable/user_guide/indexing.html#returning-a-view-versus-a-copy\n",
      "  \n",
      "/home/una/.local/lib/python3.6/site-packages/ipykernel_launcher.py:3: SettingWithCopyWarning: \n",
      "A value is trying to be set on a copy of a slice from a DataFrame.\n",
      "Try using .loc[row_indexer,col_indexer] = value instead\n",
      "\n",
      "See the caveats in the documentation: https://pandas.pydata.org/pandas-docs/stable/user_guide/indexing.html#returning-a-view-versus-a-copy\n",
      "  This is separate from the ipykernel package so we can avoid doing imports until\n",
      "/home/una/.local/lib/python3.6/site-packages/ipykernel_launcher.py:4: SettingWithCopyWarning: \n",
      "A value is trying to be set on a copy of a slice from a DataFrame.\n",
      "Try using .loc[row_indexer,col_indexer] = value instead\n",
      "\n",
      "See the caveats in the documentation: https://pandas.pydata.org/pandas-docs/stable/user_guide/indexing.html#returning-a-view-versus-a-copy\n",
      "  after removing the cwd from sys.path.\n"
     ]
    }
   ],
   "source": [
    "pred_dataset['탄소량'] = pd.to_numeric(pred_dataset['탄소량'] / pred_dataset['이용건수'])\n",
    "pred_dataset['운동량'] = pd.to_numeric(pred_dataset['운동량'] / pred_dataset['이용건수'])\n",
    "pred_dataset['사용시간'] = pd.to_numeric(pred_dataset['사용시간'] / pred_dataset['이용건수'])\n",
    "pred_dataset['이동거리'] = pd.to_numeric(pred_dataset['이동거리'] / pred_dataset['이용건수'])\n",
    "del pred_dataset['이용건수']"
   ]
  },
  {
   "cell_type": "code",
   "execution_count": 47,
   "metadata": {},
   "outputs": [],
   "source": [
    "pred_dataset = pred_dataset.iloc[:,1:]"
   ]
  },
  {
   "cell_type": "code",
   "execution_count": 48,
   "metadata": {},
   "outputs": [],
   "source": [
    "pred_out_data = model.predict(pred_dataset)"
   ]
  },
  {
   "cell_type": "code",
   "execution_count": 49,
   "metadata": {},
   "outputs": [],
   "source": [
    "pred_out_class = []\n",
    "for i,pred in zip(range(0, len(pred_out_data)), pred_out_data) :\n",
    "    pred_out_class.append(class_names[np.argmax(pred)])"
   ]
  },
  {
   "cell_type": "code",
   "execution_count": 50,
   "metadata": {},
   "outputs": [],
   "source": [
    "pred_out_class = np.array(pred_out_class)"
   ]
  },
  {
   "cell_type": "code",
   "execution_count": 51,
   "metadata": {},
   "outputs": [],
   "source": [
    "genderless['성별'] = pred_out_class.T"
   ]
  },
  {
   "cell_type": "code",
   "execution_count": 52,
   "metadata": {},
   "outputs": [],
   "source": [
    "pred_gender_data = np.concatenate((gender,genderless),axis=0)"
   ]
  },
  {
   "cell_type": "code",
   "execution_count": 53,
   "metadata": {},
   "outputs": [],
   "source": [
    "header=['대여일자','대여시간','대여소번호','대여소명','대여구분코드','성별','연령대코드','이용건수','운동량','탄소량','이동거리','사용시간']\n",
    "dataframe = pd.DataFrame(pred_gender_data)\n",
    "dataframe.to_csv(\"공공자전거 이용정보_성별예측2.csv\",header=header, index=False, encoding='utf-8-sig')"
   ]
  },
  {
   "cell_type": "code",
   "execution_count": null,
   "metadata": {},
   "outputs": [],
   "source": []
  },
  {
   "cell_type": "code",
   "execution_count": null,
   "metadata": {},
   "outputs": [],
   "source": []
  },
  {
   "cell_type": "code",
   "execution_count": null,
   "metadata": {},
   "outputs": [],
   "source": []
  },
  {
   "cell_type": "code",
   "execution_count": null,
   "metadata": {},
   "outputs": [],
   "source": []
  }
 ],
 "metadata": {
  "kernelspec": {
   "display_name": "Python(py36)",
   "language": "python",
   "name": "py36"
  },
  "language_info": {
   "codemirror_mode": {
    "name": "ipython",
    "version": 3
   },
   "file_extension": ".py",
   "mimetype": "text/x-python",
   "name": "python",
   "nbconvert_exporter": "python",
   "pygments_lexer": "ipython3",
   "version": "3.6.10"
  }
 },
 "nbformat": 4,
 "nbformat_minor": 4
}
