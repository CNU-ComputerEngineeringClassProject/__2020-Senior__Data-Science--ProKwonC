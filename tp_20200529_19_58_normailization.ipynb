{
 "cells": [
  {
   "cell_type": "code",
   "execution_count": 93,
   "metadata": {},
   "outputs": [],
   "source": [
    "from os.path import join\n",
    "import numpy as np\n",
    "import pandas as pd\n",
    "import matplotlib.pyplot as plt"
   ]
  },
  {
   "cell_type": "code",
   "execution_count": 94,
   "metadata": {},
   "outputs": [
    {
     "data": {
      "text/html": [
       "<div>\n",
       "<style scoped>\n",
       "    .dataframe tbody tr th:only-of-type {\n",
       "        vertical-align: middle;\n",
       "    }\n",
       "\n",
       "    .dataframe tbody tr th {\n",
       "        vertical-align: top;\n",
       "    }\n",
       "\n",
       "    .dataframe thead th {\n",
       "        text-align: right;\n",
       "    }\n",
       "</style>\n",
       "<table border=\"1\" class=\"dataframe\">\n",
       "  <thead>\n",
       "    <tr style=\"text-align: right;\">\n",
       "      <th></th>\n",
       "      <th>대여일자</th>\n",
       "      <th>대여시간</th>\n",
       "      <th>대여소번호</th>\n",
       "      <th>대여소명</th>\n",
       "      <th>대여구분코드</th>\n",
       "      <th>성별</th>\n",
       "      <th>연령대코드</th>\n",
       "      <th>이용건수</th>\n",
       "      <th>운동량</th>\n",
       "      <th>탄소량</th>\n",
       "      <th>이동거리</th>\n",
       "      <th>사용시간</th>\n",
       "    </tr>\n",
       "  </thead>\n",
       "  <tbody>\n",
       "    <tr>\n",
       "      <th>0</th>\n",
       "      <td>2019-09-02</td>\n",
       "      <td>13</td>\n",
       "      <td>212</td>\n",
       "      <td>212. 여의도역 1번출구 옆</td>\n",
       "      <td>정기권</td>\n",
       "      <td>F</td>\n",
       "      <td>70대~</td>\n",
       "      <td>3</td>\n",
       "      <td>123.3</td>\n",
       "      <td>1.11</td>\n",
       "      <td>4790</td>\n",
       "      <td>67</td>\n",
       "    </tr>\n",
       "    <tr>\n",
       "      <th>1</th>\n",
       "      <td>2019-09-13</td>\n",
       "      <td>12</td>\n",
       "      <td>279</td>\n",
       "      <td>279. 영등포 푸르지오 아파트</td>\n",
       "      <td>정기권</td>\n",
       "      <td>NaN</td>\n",
       "      <td>70대~</td>\n",
       "      <td>3</td>\n",
       "      <td>88.75</td>\n",
       "      <td>0.72</td>\n",
       "      <td>3070</td>\n",
       "      <td>26</td>\n",
       "    </tr>\n",
       "  </tbody>\n",
       "</table>\n",
       "</div>"
      ],
      "text/plain": [
       "         대여일자  대여시간  대여소번호               대여소명 대여구분코드   성별 연령대코드  이용건수    운동량  \\\n",
       "0  2019-09-02    13    212   212. 여의도역 1번출구 옆    정기권    F  70대~     3  123.3   \n",
       "1  2019-09-13    12    279  279. 영등포 푸르지오 아파트    정기권  NaN  70대~     3  88.75   \n",
       "\n",
       "    탄소량  이동거리  사용시간  \n",
       "0  1.11  4790    67  \n",
       "1  0.72  3070    26  "
      ]
     },
     "execution_count": 94,
     "metadata": {},
     "output_type": "execute_result"
    }
   ],
   "source": [
    "#Data Import\n",
    "real_data=pd.read_csv(join('data','Seoul_public_bike.csv'), encoding='CP949')\n",
    "real_data.head(2) #table로 보여주어 직관적이다."
   ]
  },
  {
   "cell_type": "markdown",
   "metadata": {},
   "source": [
    "## data preprocessing"
   ]
  },
  {
   "cell_type": "code",
   "execution_count": 95,
   "metadata": {
    "scrolled": false
   },
   "outputs": [
    {
     "data": {
      "text/html": [
       "<div>\n",
       "<style scoped>\n",
       "    .dataframe tbody tr th:only-of-type {\n",
       "        vertical-align: middle;\n",
       "    }\n",
       "\n",
       "    .dataframe tbody tr th {\n",
       "        vertical-align: top;\n",
       "    }\n",
       "\n",
       "    .dataframe thead th {\n",
       "        text-align: right;\n",
       "    }\n",
       "</style>\n",
       "<table border=\"1\" class=\"dataframe\">\n",
       "  <thead>\n",
       "    <tr style=\"text-align: right;\">\n",
       "      <th></th>\n",
       "      <th>성별</th>\n",
       "      <th>이용건수</th>\n",
       "      <th>운동량</th>\n",
       "      <th>탄소량</th>\n",
       "      <th>이동거리</th>\n",
       "      <th>사용시간</th>\n",
       "    </tr>\n",
       "  </thead>\n",
       "  <tbody>\n",
       "    <tr>\n",
       "      <th>0</th>\n",
       "      <td>F</td>\n",
       "      <td>3</td>\n",
       "      <td>123.3</td>\n",
       "      <td>1.11</td>\n",
       "      <td>4790</td>\n",
       "      <td>67</td>\n",
       "    </tr>\n",
       "    <tr>\n",
       "      <th>1</th>\n",
       "      <td>NaN</td>\n",
       "      <td>3</td>\n",
       "      <td>88.75</td>\n",
       "      <td>0.72</td>\n",
       "      <td>3070</td>\n",
       "      <td>26</td>\n",
       "    </tr>\n",
       "    <tr>\n",
       "      <th>2</th>\n",
       "      <td>M</td>\n",
       "      <td>3</td>\n",
       "      <td>820.87</td>\n",
       "      <td>5.07</td>\n",
       "      <td>21820</td>\n",
       "      <td>168</td>\n",
       "    </tr>\n",
       "    <tr>\n",
       "      <th>3</th>\n",
       "      <td>F</td>\n",
       "      <td>3</td>\n",
       "      <td>21.11</td>\n",
       "      <td>0.19</td>\n",
       "      <td>820</td>\n",
       "      <td>74</td>\n",
       "    </tr>\n",
       "    <tr>\n",
       "      <th>4</th>\n",
       "      <td>F</td>\n",
       "      <td>2</td>\n",
       "      <td>472.59</td>\n",
       "      <td>3.08</td>\n",
       "      <td>13260</td>\n",
       "      <td>112</td>\n",
       "    </tr>\n",
       "  </tbody>\n",
       "</table>\n",
       "</div>"
      ],
      "text/plain": [
       "    성별  이용건수     운동량   탄소량   이동거리  사용시간\n",
       "0    F     3   123.3  1.11   4790    67\n",
       "1  NaN     3   88.75  0.72   3070    26\n",
       "2    M     3  820.87  5.07  21820   168\n",
       "3    F     3   21.11  0.19    820    74\n",
       "4    F     2  472.59  3.08  13260   112"
      ]
     },
     "execution_count": 95,
     "metadata": {},
     "output_type": "execute_result"
    }
   ],
   "source": [
    "dp = real_data[['성별','이용건수', '운동량', '탄소량','이동거리','사용시간']]\n",
    "dp.head(5)"
   ]
  },
  {
   "cell_type": "code",
   "execution_count": 96,
   "metadata": {
    "scrolled": true
   },
   "outputs": [
    {
     "data": {
      "text/plain": [
       "(1000000, 6)"
      ]
     },
     "execution_count": 96,
     "metadata": {},
     "output_type": "execute_result"
    }
   ],
   "source": [
    "dp.shape"
   ]
  },
  {
   "cell_type": "code",
   "execution_count": 99,
   "metadata": {
    "scrolled": true
   },
   "outputs": [
    {
     "name": "stdout",
     "output_type": "stream",
     "text": [
      "성별\n",
      "F    169024\n",
      "M    264907\n",
      "dtype: int64\n"
     ]
    }
   ],
   "source": [
    "class_counts = dp.groupby('성별').size()\n",
    "print(class_counts)"
   ]
  },
  {
   "cell_type": "code",
   "execution_count": 98,
   "metadata": {},
   "outputs": [
    {
     "name": "stderr",
     "output_type": "stream",
     "text": [
      "C:\\Users\\Una\\anaconda3\\lib\\site-packages\\pandas\\core\\indexing.py:965: SettingWithCopyWarning: \n",
      "A value is trying to be set on a copy of a slice from a DataFrame.\n",
      "Try using .loc[row_indexer,col_indexer] = value instead\n",
      "\n",
      "See the caveats in the documentation: https://pandas.pydata.org/pandas-docs/stable/user_guide/indexing.html#returning-a-view-versus-a-copy\n",
      "  self.obj[item] = s\n"
     ]
    }
   ],
   "source": [
    "dp.loc[dp['성별'] == 'f', '성별'] = 'F'\n",
    "dp.loc[dp['성별'] == 'm', '성별'] = 'M'"
   ]
  },
  {
   "cell_type": "code",
   "execution_count": 100,
   "metadata": {},
   "outputs": [
    {
     "name": "stdout",
     "output_type": "stream",
     "text": [
      "성별      566069\n",
      "이용건수         0\n",
      "운동량          0\n",
      "탄소량          0\n",
      "이동거리         0\n",
      "사용시간         0\n",
      "dtype: int64\n"
     ]
    }
   ],
   "source": [
    "print(dp.isnull().sum())"
   ]
  },
  {
   "cell_type": "code",
   "execution_count": 101,
   "metadata": {},
   "outputs": [],
   "source": [
    "dp = dp.dropna(subset=['성별'])"
   ]
  },
  {
   "cell_type": "code",
   "execution_count": 102,
   "metadata": {
    "scrolled": true
   },
   "outputs": [
    {
     "data": {
      "text/plain": [
       "성별      object\n",
       "이용건수     int64\n",
       "운동량     object\n",
       "탄소량     object\n",
       "이동거리     int64\n",
       "사용시간     int64\n",
       "dtype: object"
      ]
     },
     "execution_count": 102,
     "metadata": {},
     "output_type": "execute_result"
    }
   ],
   "source": [
    "dp.dtypes"
   ]
  },
  {
   "cell_type": "code",
   "execution_count": 103,
   "metadata": {},
   "outputs": [],
   "source": [
    "idx_n = dp[dp['운동량']=='\\\\N'].index\n",
    "dp = dp.drop(idx_n)\n",
    "dp['운동량'] = pd.to_numeric(dp['운동량'])"
   ]
  },
  {
   "cell_type": "code",
   "execution_count": 104,
   "metadata": {},
   "outputs": [],
   "source": [
    "idx_n = dp[dp['탄소량']=='\\\\N'].index\n",
    "dp = dp.drop(idx_n)\n",
    "dp['탄소량'] = pd.to_numeric(dp['탄소량'])"
   ]
  },
  {
   "cell_type": "code",
   "execution_count": 155,
   "metadata": {},
   "outputs": [],
   "source": [
    "dp['탄소량'] = pd.to_numeric(dp['탄소량'] / dp['이용건수'])\n",
    "dp['운동량'] = pd.to_numeric(dp['운동량'] / dp['이용건수'])\n",
    "dp['사용시간'] = pd.to_numeric(dp['사용시간'] / dp['이용건수'])\n",
    "dp['이동거리'] = pd.to_numeric(dp['이동거리'] / dp['이용건수'])\n",
    "del dp['이용건수']"
   ]
  },
  {
   "cell_type": "code",
   "execution_count": 157,
   "metadata": {
    "scrolled": false
   },
   "outputs": [
    {
     "name": "stdout",
     "output_type": "stream",
     "text": [
      "           운동량       탄소량      이동거리      사용시간\n",
      "운동량   1.000000  0.982190  0.982190  0.217718\n",
      "탄소량   0.982190  1.000000  1.000000  0.224423\n",
      "이동거리  0.982190  1.000000  1.000000  0.224424\n",
      "사용시간  0.217718  0.224423  0.224424  1.000000\n"
     ]
    }
   ],
   "source": [
    "correlations = dp.corr(method='pearson')\n",
    "print(correlations)"
   ]
  },
  {
   "cell_type": "code",
   "execution_count": 158,
   "metadata": {},
   "outputs": [],
   "source": [
    "%matplotlib inline \n",
    "#notebook을 실행한 브라우저에서 바로 그림을 볼 수 있게 해주는 것\n",
    "import matplotlib.pyplot as plt\n",
    "data=dp"
   ]
  },
  {
   "cell_type": "code",
   "execution_count": 159,
   "metadata": {
    "scrolled": true
   },
   "outputs": [
    {
     "data": {
      "text/html": [
       "<div>\n",
       "<style scoped>\n",
       "    .dataframe tbody tr th:only-of-type {\n",
       "        vertical-align: middle;\n",
       "    }\n",
       "\n",
       "    .dataframe tbody tr th {\n",
       "        vertical-align: top;\n",
       "    }\n",
       "\n",
       "    .dataframe thead th {\n",
       "        text-align: right;\n",
       "    }\n",
       "</style>\n",
       "<table border=\"1\" class=\"dataframe\">\n",
       "  <thead>\n",
       "    <tr style=\"text-align: right;\">\n",
       "      <th></th>\n",
       "      <th>성별</th>\n",
       "      <th>운동량</th>\n",
       "      <th>탄소량</th>\n",
       "      <th>이동거리</th>\n",
       "      <th>사용시간</th>\n",
       "    </tr>\n",
       "  </thead>\n",
       "  <tbody>\n",
       "    <tr>\n",
       "      <th>0</th>\n",
       "      <td>F</td>\n",
       "      <td>13.700000</td>\n",
       "      <td>0.123333</td>\n",
       "      <td>532.222222</td>\n",
       "      <td>7.444444</td>\n",
       "    </tr>\n",
       "    <tr>\n",
       "      <th>2</th>\n",
       "      <td>M</td>\n",
       "      <td>91.207778</td>\n",
       "      <td>0.563333</td>\n",
       "      <td>2424.444444</td>\n",
       "      <td>18.666667</td>\n",
       "    </tr>\n",
       "    <tr>\n",
       "      <th>3</th>\n",
       "      <td>F</td>\n",
       "      <td>2.345556</td>\n",
       "      <td>0.021111</td>\n",
       "      <td>91.111111</td>\n",
       "      <td>8.222222</td>\n",
       "    </tr>\n",
       "    <tr>\n",
       "      <th>4</th>\n",
       "      <td>F</td>\n",
       "      <td>118.147500</td>\n",
       "      <td>0.770000</td>\n",
       "      <td>3315.000000</td>\n",
       "      <td>28.000000</td>\n",
       "    </tr>\n",
       "    <tr>\n",
       "      <th>6</th>\n",
       "      <td>F</td>\n",
       "      <td>19.885000</td>\n",
       "      <td>0.177500</td>\n",
       "      <td>772.500000</td>\n",
       "      <td>3.750000</td>\n",
       "    </tr>\n",
       "    <tr>\n",
       "      <th>7</th>\n",
       "      <td>M</td>\n",
       "      <td>15.637500</td>\n",
       "      <td>0.142500</td>\n",
       "      <td>607.500000</td>\n",
       "      <td>4.250000</td>\n",
       "    </tr>\n",
       "    <tr>\n",
       "      <th>8</th>\n",
       "      <td>F</td>\n",
       "      <td>9.010000</td>\n",
       "      <td>0.082500</td>\n",
       "      <td>350.000000</td>\n",
       "      <td>18.000000</td>\n",
       "    </tr>\n",
       "    <tr>\n",
       "      <th>10</th>\n",
       "      <td>F</td>\n",
       "      <td>13.900000</td>\n",
       "      <td>0.137500</td>\n",
       "      <td>585.000000</td>\n",
       "      <td>15.000000</td>\n",
       "    </tr>\n",
       "    <tr>\n",
       "      <th>12</th>\n",
       "      <td>F</td>\n",
       "      <td>9.900000</td>\n",
       "      <td>0.115000</td>\n",
       "      <td>500.000000</td>\n",
       "      <td>3.250000</td>\n",
       "    </tr>\n",
       "    <tr>\n",
       "      <th>13</th>\n",
       "      <td>F</td>\n",
       "      <td>11.132500</td>\n",
       "      <td>0.100000</td>\n",
       "      <td>432.500000</td>\n",
       "      <td>12.500000</td>\n",
       "    </tr>\n",
       "    <tr>\n",
       "      <th>14</th>\n",
       "      <td>F</td>\n",
       "      <td>36.532500</td>\n",
       "      <td>0.477500</td>\n",
       "      <td>2050.000000</td>\n",
       "      <td>22.250000</td>\n",
       "    </tr>\n",
       "  </tbody>\n",
       "</table>\n",
       "</div>"
      ],
      "text/plain": [
       "   성별         운동량       탄소량         이동거리       사용시간\n",
       "0   F   13.700000  0.123333   532.222222   7.444444\n",
       "2   M   91.207778  0.563333  2424.444444  18.666667\n",
       "3   F    2.345556  0.021111    91.111111   8.222222\n",
       "4   F  118.147500  0.770000  3315.000000  28.000000\n",
       "6   F   19.885000  0.177500   772.500000   3.750000\n",
       "7   M   15.637500  0.142500   607.500000   4.250000\n",
       "8   F    9.010000  0.082500   350.000000  18.000000\n",
       "10  F   13.900000  0.137500   585.000000  15.000000\n",
       "12  F    9.900000  0.115000   500.000000   3.250000\n",
       "13  F   11.132500  0.100000   432.500000  12.500000\n",
       "14  F   36.532500  0.477500  2050.000000  22.250000"
      ]
     },
     "execution_count": 159,
     "metadata": {},
     "output_type": "execute_result"
    }
   ],
   "source": [
    "data.head(11)"
   ]
  },
  {
   "cell_type": "code",
   "execution_count": 160,
   "metadata": {
    "scrolled": true
   },
   "outputs": [
    {
     "data": {
      "text/plain": [
       "성별       object\n",
       "운동량     float64\n",
       "탄소량     float64\n",
       "이동거리    float64\n",
       "사용시간    float64\n",
       "dtype: object"
      ]
     },
     "execution_count": 160,
     "metadata": {},
     "output_type": "execute_result"
    }
   ],
   "source": [
    "data.dtypes"
   ]
  },
  {
   "cell_type": "code",
   "execution_count": 161,
   "metadata": {},
   "outputs": [
    {
     "name": "stderr",
     "output_type": "stream",
     "text": [
      "C:\\Users\\Una\\anaconda3\\lib\\site-packages\\matplotlib\\backends\\backend_agg.py:211: RuntimeWarning: Glyph 50868 missing from current font.\n",
      "  font.set_text(s, 0.0, flags=flags)\n",
      "C:\\Users\\Una\\anaconda3\\lib\\site-packages\\matplotlib\\backends\\backend_agg.py:211: RuntimeWarning: Glyph 46041 missing from current font.\n",
      "  font.set_text(s, 0.0, flags=flags)\n",
      "C:\\Users\\Una\\anaconda3\\lib\\site-packages\\matplotlib\\backends\\backend_agg.py:211: RuntimeWarning: Glyph 47049 missing from current font.\n",
      "  font.set_text(s, 0.0, flags=flags)\n",
      "C:\\Users\\Una\\anaconda3\\lib\\site-packages\\matplotlib\\backends\\backend_agg.py:180: RuntimeWarning: Glyph 50868 missing from current font.\n",
      "  font.set_text(s, 0, flags=flags)\n",
      "C:\\Users\\Una\\anaconda3\\lib\\site-packages\\matplotlib\\backends\\backend_agg.py:180: RuntimeWarning: Glyph 46041 missing from current font.\n",
      "  font.set_text(s, 0, flags=flags)\n",
      "C:\\Users\\Una\\anaconda3\\lib\\site-packages\\matplotlib\\backends\\backend_agg.py:180: RuntimeWarning: Glyph 47049 missing from current font.\n",
      "  font.set_text(s, 0, flags=flags)\n",
      "C:\\Users\\Una\\anaconda3\\lib\\site-packages\\matplotlib\\backends\\backend_agg.py:211: RuntimeWarning: Glyph 53444 missing from current font.\n",
      "  font.set_text(s, 0.0, flags=flags)\n",
      "C:\\Users\\Una\\anaconda3\\lib\\site-packages\\matplotlib\\backends\\backend_agg.py:211: RuntimeWarning: Glyph 49548 missing from current font.\n",
      "  font.set_text(s, 0.0, flags=flags)\n",
      "C:\\Users\\Una\\anaconda3\\lib\\site-packages\\matplotlib\\backends\\backend_agg.py:180: RuntimeWarning: Glyph 53444 missing from current font.\n",
      "  font.set_text(s, 0, flags=flags)\n",
      "C:\\Users\\Una\\anaconda3\\lib\\site-packages\\matplotlib\\backends\\backend_agg.py:180: RuntimeWarning: Glyph 49548 missing from current font.\n",
      "  font.set_text(s, 0, flags=flags)\n",
      "C:\\Users\\Una\\anaconda3\\lib\\site-packages\\matplotlib\\backends\\backend_agg.py:211: RuntimeWarning: Glyph 51060 missing from current font.\n",
      "  font.set_text(s, 0.0, flags=flags)\n",
      "C:\\Users\\Una\\anaconda3\\lib\\site-packages\\matplotlib\\backends\\backend_agg.py:211: RuntimeWarning: Glyph 44144 missing from current font.\n",
      "  font.set_text(s, 0.0, flags=flags)\n",
      "C:\\Users\\Una\\anaconda3\\lib\\site-packages\\matplotlib\\backends\\backend_agg.py:211: RuntimeWarning: Glyph 47532 missing from current font.\n",
      "  font.set_text(s, 0.0, flags=flags)\n",
      "C:\\Users\\Una\\anaconda3\\lib\\site-packages\\matplotlib\\backends\\backend_agg.py:180: RuntimeWarning: Glyph 51060 missing from current font.\n",
      "  font.set_text(s, 0, flags=flags)\n",
      "C:\\Users\\Una\\anaconda3\\lib\\site-packages\\matplotlib\\backends\\backend_agg.py:180: RuntimeWarning: Glyph 44144 missing from current font.\n",
      "  font.set_text(s, 0, flags=flags)\n",
      "C:\\Users\\Una\\anaconda3\\lib\\site-packages\\matplotlib\\backends\\backend_agg.py:180: RuntimeWarning: Glyph 47532 missing from current font.\n",
      "  font.set_text(s, 0, flags=flags)\n",
      "C:\\Users\\Una\\anaconda3\\lib\\site-packages\\matplotlib\\backends\\backend_agg.py:211: RuntimeWarning: Glyph 49324 missing from current font.\n",
      "  font.set_text(s, 0.0, flags=flags)\n",
      "C:\\Users\\Una\\anaconda3\\lib\\site-packages\\matplotlib\\backends\\backend_agg.py:211: RuntimeWarning: Glyph 50857 missing from current font.\n",
      "  font.set_text(s, 0.0, flags=flags)\n",
      "C:\\Users\\Una\\anaconda3\\lib\\site-packages\\matplotlib\\backends\\backend_agg.py:211: RuntimeWarning: Glyph 49884 missing from current font.\n",
      "  font.set_text(s, 0.0, flags=flags)\n",
      "C:\\Users\\Una\\anaconda3\\lib\\site-packages\\matplotlib\\backends\\backend_agg.py:211: RuntimeWarning: Glyph 44036 missing from current font.\n",
      "  font.set_text(s, 0.0, flags=flags)\n",
      "C:\\Users\\Una\\anaconda3\\lib\\site-packages\\matplotlib\\backends\\backend_agg.py:180: RuntimeWarning: Glyph 49324 missing from current font.\n",
      "  font.set_text(s, 0, flags=flags)\n",
      "C:\\Users\\Una\\anaconda3\\lib\\site-packages\\matplotlib\\backends\\backend_agg.py:180: RuntimeWarning: Glyph 50857 missing from current font.\n",
      "  font.set_text(s, 0, flags=flags)\n",
      "C:\\Users\\Una\\anaconda3\\lib\\site-packages\\matplotlib\\backends\\backend_agg.py:180: RuntimeWarning: Glyph 49884 missing from current font.\n",
      "  font.set_text(s, 0, flags=flags)\n",
      "C:\\Users\\Una\\anaconda3\\lib\\site-packages\\matplotlib\\backends\\backend_agg.py:180: RuntimeWarning: Glyph 44036 missing from current font.\n",
      "  font.set_text(s, 0, flags=flags)\n"
     ]
    },
    {
     "data": {
      "image/png": "[encoded data removed]",
      "text/plain": [
       "<Figure size 432x288 with 16 Axes>"
      ]
     },
     "metadata": {
      "needs_background": "light"
     },
     "output_type": "display_data"
    }
   ],
   "source": [
    "from pandas.plotting import scatter_matrix\n",
    "scatter_matrix(data)\n",
    "plt.show()"
   ]
  },
  {
   "cell_type": "code",
   "execution_count": 162,
   "metadata": {},
   "outputs": [
    {
     "name": "stdout",
     "output_type": "stream",
     "text": [
      "(432447, 5)\n",
      "(10, 5)\n",
      "(432437, 5)\n"
     ]
    }
   ],
   "source": [
    "test = dp.iloc[-10:,:]\n",
    "train = dp.iloc[:-10,:]\n",
    "\n",
    "print(dp.shape)\n",
    "print(test.shape)\n",
    "print(train.shape)"
   ]
  },
  {
   "cell_type": "code",
   "execution_count": 170,
   "metadata": {},
   "outputs": [],
   "source": [
    "# 혹은 scikit learn에서 제공해주는 함수를 사용할 수도 있음\n",
    "## )r you can use just this \n",
    "from sklearn.model_selection import train_test_split\n",
    "\n",
    "trnx, tstx, trny, tsty = train_test_split(train.iloc[:,1:], train.iloc[:,0], test_size=0.3, random_state=123)"
   ]
  },
  {
   "cell_type": "code",
   "execution_count": 171,
   "metadata": {},
   "outputs": [
    {
     "data": {
      "text/plain": [
       "array([[0, 1],\n",
       "       [1, 0],\n",
       "       [1, 0],\n",
       "       ...,\n",
       "       [0, 1],\n",
       "       [1, 0],\n",
       "       [0, 1]], dtype=uint8)"
      ]
     },
     "execution_count": 171,
     "metadata": {},
     "output_type": "execute_result"
    }
   ],
   "source": [
    "from sklearn.preprocessing import LabelEncoder\n",
    "\n",
    "encoder =  LabelEncoder()\n",
    "y1 = encoder.fit_transform(trny)\n",
    "trny = pd.get_dummies(y1).values\n",
    "trny"
   ]
  },
  {
   "cell_type": "code",
   "execution_count": 172,
   "metadata": {
    "scrolled": true
   },
   "outputs": [
    {
     "data": {
      "text/plain": [
       "array([[0, 1],\n",
       "       [0, 1],\n",
       "       [0, 1],\n",
       "       ...,\n",
       "       [1, 0],\n",
       "       [0, 1],\n",
       "       [0, 1]], dtype=uint8)"
      ]
     },
     "execution_count": 172,
     "metadata": {},
     "output_type": "execute_result"
    }
   ],
   "source": [
    "encoder =  LabelEncoder()\n",
    "y1 = encoder.fit_transform(tsty)\n",
    "tsty = pd.get_dummies(y1).values\n",
    "tsty"
   ]
  },
  {
   "cell_type": "code",
   "execution_count": 173,
   "metadata": {
    "scrolled": true
   },
   "outputs": [
    {
     "data": {
      "text/plain": [
       "((302705, 4), (129732, 4), (302705, 2), (129732, 2))"
      ]
     },
     "execution_count": 173,
     "metadata": {},
     "output_type": "execute_result"
    }
   ],
   "source": [
    "trnx.shape, tstx.shape, trny.shape, tsty.shape"
   ]
  },
  {
   "cell_type": "code",
   "execution_count": 174,
   "metadata": {},
   "outputs": [],
   "source": [
    "trnx = (trnx - np.min(trnx)) / (np.max(trnx) - np.min(trnx))\n",
    "tstx = (tstx - np.min(tstx)) / (np.max(tstx) - np.min(tstx))"
   ]
  },
  {
   "cell_type": "code",
   "execution_count": 178,
   "metadata": {},
   "outputs": [
    {
     "name": "stdout",
     "output_type": "stream",
     "text": [
      "Model: \"sequential_11\"\n",
      "_________________________________________________________________\n",
      "Layer (type)                 Output Shape              Param #   \n",
      "=================================================================\n",
      "dense_42 (Dense)             (None, 128)               640       \n",
      "_________________________________________________________________\n",
      "dense_43 (Dense)             (None, 64)                8256      \n",
      "_________________________________________________________________\n",
      "dropout_15 (Dropout)         (None, 64)                0         \n",
      "_________________________________________________________________\n",
      "dense_44 (Dense)             (None, 32)                2080      \n",
      "_________________________________________________________________\n",
      "dropout_16 (Dropout)         (None, 32)                0         \n",
      "_________________________________________________________________\n",
      "dense_45 (Dense)             (None, 16)                528       \n",
      "_________________________________________________________________\n",
      "dropout_17 (Dropout)         (None, 16)                0         \n",
      "_________________________________________________________________\n",
      "dense_46 (Dense)             (None, 2)                 34        \n",
      "=================================================================\n",
      "Total params: 11,538\n",
      "Trainable params: 11,538\n",
      "Non-trainable params: 0\n",
      "_________________________________________________________________\n"
     ]
    }
   ],
   "source": [
    "from keras.models import Sequential\n",
    "from keras.layers import Dense, Dropout\n",
    "from keras.optimizers import Adam\n",
    "\n",
    "model = Sequential()\n",
    "\n",
    "model.add(Dense(128, kernel_initializer='uniform',input_shape=(4,),activation='relu'))\n",
    "model.add(Dense(64, kernel_initializer='uniform',activation='relu'))\n",
    "model.add(Dropout(0.2))\n",
    "model.add(Dense(32, kernel_initializer='uniform',activation='relu'))\n",
    "model.add(Dropout(0.2))\n",
    "model.add(Dense(16, kernel_initializer='uniform',activation='relu'))\n",
    "model.add(Dropout(0.2))\n",
    "model.add(Dense(2, kernel_initializer='uniform',activation='softmax'))\n",
    "\n",
    "model.compile(loss='categorical_crossentropy', \n",
    "              optimizer='Adam', \n",
    "              metrics=['accuracy'])\n",
    "\n",
    "model.summary()"
   ]
  },
  {
   "cell_type": "code",
   "execution_count": null,
   "metadata": {
    "scrolled": true
   },
   "outputs": [
    {
     "name": "stdout",
     "output_type": "stream",
     "text": [
      "Train on 302705 samples, validate on 129732 samples\n",
      "Epoch 1/30\n",
      "302705/302705 [==============================] - 23s 74us/step - loss: 0.6171 - accuracy: 0.6654 - val_loss: 0.5580 - val_accuracy: 0.7405\n",
      "Epoch 2/30\n",
      "302705/302705 [==============================] - 21s 68us/step - loss: 0.5340 - accuracy: 0.7434 - val_loss: 0.5558 - val_accuracy: 0.7182\n",
      "Epoch 3/30\n",
      "302705/302705 [==============================] - 21s 71us/step - loss: 0.5127 - accuracy: 0.7535 - val_loss: 0.5668 - val_accuracy: 0.7020\n",
      "Epoch 4/30\n",
      "302705/302705 [==============================] - 21s 68us/step - loss: 0.5033 - accuracy: 0.7589 - val_loss: 0.5781 - val_accuracy: 0.6971\n",
      "Epoch 5/30\n",
      "302705/302705 [==============================] - 21s 70us/step - loss: 0.4947 - accuracy: 0.7618 - val_loss: 0.6734 - val_accuracy: 0.5935\n",
      "Epoch 6/30\n",
      "302705/302705 [==============================] - 24s 79us/step - loss: 0.4904 - accuracy: 0.7646 - val_loss: 0.5370 - val_accuracy: 0.7230\n",
      "Epoch 7/30\n",
      "302705/302705 [==============================] - 25s 81us/step - loss: 0.4847 - accuracy: 0.7680 - val_loss: 0.5689 - val_accuracy: 0.6954\n",
      "Epoch 8/30\n",
      "302705/302705 [==============================] - 21s 69us/step - loss: 0.4843 - accuracy: 0.7684 - val_loss: 0.5784 - val_accuracy: 0.6911\n",
      "Epoch 9/30\n",
      "302705/302705 [==============================] - 22s 73us/step - loss: 0.4814 - accuracy: 0.7707 - val_loss: 0.5446 - val_accuracy: 0.7182\n",
      "Epoch 10/30\n",
      "302705/302705 [==============================] - 21s 70us/step - loss: 0.4780 - accuracy: 0.7724 - val_loss: 0.5466 - val_accuracy: 0.7115\n",
      "Epoch 11/30\n",
      "302705/302705 [==============================] - 27s 88us/step - loss: 0.4752 - accuracy: 0.7741 - val_loss: 0.5515 - val_accuracy: 0.7074\n",
      "Epoch 12/30\n",
      "302705/302705 [==============================] - 31s 103us/step - loss: 0.4718 - accuracy: 0.7760 - val_loss: 0.6692 - val_accuracy: 0.6062\n",
      "Epoch 13/30\n",
      "302705/302705 [==============================] - 32s 105us/step - loss: 0.4710 - accuracy: 0.7760 - val_loss: 0.5515 - val_accuracy: 0.7086\n",
      "Epoch 14/30\n",
      "302705/302705 [==============================] - 26s 86us/step - loss: 0.4704 - accuracy: 0.7777 - val_loss: 0.6535 - val_accuracy: 0.6217\n",
      "Epoch 15/30\n",
      "302705/302705 [==============================] - 23s 75us/step - loss: 0.4678 - accuracy: 0.7780 - val_loss: 0.4999 - val_accuracy: 0.7479\n",
      "Epoch 16/30\n",
      "302705/302705 [==============================] - 23s 77us/step - loss: 0.4658 - accuracy: 0.7786 - val_loss: 0.6359 - val_accuracy: 0.6303\n",
      "Epoch 17/30\n",
      "302705/302705 [==============================] - 27s 90us/step - loss: 0.4639 - accuracy: 0.7798 - val_loss: 0.4895 - val_accuracy: 0.7546\n",
      "Epoch 18/30\n",
      "302705/302705 [==============================] - 25s 82us/step - loss: 0.4642 - accuracy: 0.7789 - val_loss: 0.5092 - val_accuracy: 0.7414\n",
      "Epoch 19/30\n",
      "302705/302705 [==============================] - 21s 70us/step - loss: 0.4630 - accuracy: 0.7807 - val_loss: 0.5878 - val_accuracy: 0.6791\n",
      "Epoch 20/30\n",
      "302705/302705 [==============================] - 23s 75us/step - loss: 0.4616 - accuracy: 0.7806 - val_loss: 0.5470 - val_accuracy: 0.7111\n",
      "Epoch 21/30\n",
      "302705/302705 [==============================] - 22s 73us/step - loss: 0.4612 - accuracy: 0.7813 - val_loss: 0.4814 - val_accuracy: 0.7572\n",
      "Epoch 22/30\n",
      "302705/302705 [==============================] - 24s 78us/step - loss: 0.4596 - accuracy: 0.7813 - val_loss: 0.4948 - val_accuracy: 0.7479\n",
      "Epoch 23/30\n",
      "302705/302705 [==============================] - 29s 97us/step - loss: 0.4592 - accuracy: 0.7824 - val_loss: 0.5621 - val_accuracy: 0.6966\n",
      "Epoch 24/30\n",
      "302705/302705 [==============================] - 24s 78us/step - loss: 0.4591 - accuracy: 0.7822 - val_loss: 0.5796 - val_accuracy: 0.6851\n",
      "Epoch 25/30\n",
      "302705/302705 [==============================] - 21s 68us/step - loss: 0.4589 - accuracy: 0.7825 - val_loss: 0.5226 - val_accuracy: 0.7290\n",
      "Epoch 26/30\n",
      "302705/302705 [==============================] - 21s 70us/step - loss: 0.4576 - accuracy: 0.7830 - val_loss: 0.5965 - val_accuracy: 0.6628\n",
      "Epoch 27/30\n",
      "302705/302705 [==============================] - 23s 77us/step - loss: 0.4578 - accuracy: 0.7828 - val_loss: 0.5693 - val_accuracy: 0.6921\n",
      "Epoch 28/30\n",
      "253216/302705 [========================>.....] - ETA: 3s - loss: 0.4563 - accuracy: 0.7825"
     ]
    }
   ],
   "source": [
    "hist = model.fit(trnx, trny, validation_data=(tstx, tsty), epochs=30)"
   ]
  },
  {
   "cell_type": "code",
   "execution_count": null,
   "metadata": {
    "scrolled": false
   },
   "outputs": [],
   "source": [
    "import matplotlib.pyplot as plt\n",
    "%matplotlib inline\n",
    "\n",
    "plt.figure(figsize=(12,8))\n",
    "#plt.plot(hist.history['loss'])\n",
    "#plt.plot(hist.history['val_loss'])\n",
    "plt.plot(hist.history['accuracy'])\n",
    "plt.plot(hist.history['val_accuracy'])\n",
    "plt.legend(['loss','val_loss', 'accuracy','val_accuracy'])\n",
    "plt.grid()\n",
    "plt.show()"
   ]
  },
  {
   "cell_type": "code",
   "execution_count": null,
   "metadata": {},
   "outputs": [],
   "source": [
    "import matplotlib.pyplot as plt\n",
    "%matplotlib inline\n",
    "\n",
    "plt.figure(figsize=(12,8))\n",
    "plt.plot(hist.history['loss'])\n",
    "plt.plot(hist.history['val_loss'])\n",
    "#plt.plot(hist.history['accuracy'])\n",
    "#plt.plot(hist.history['val_accuracy'])\n",
    "plt.legend(['loss','val_loss', 'accuracy','val_accuracy'])\n",
    "plt.grid()\n",
    "plt.show()"
   ]
  },
  {
   "cell_type": "code",
   "execution_count": null,
   "metadata": {},
   "outputs": [],
   "source": []
  },
  {
   "cell_type": "code",
   "execution_count": null,
   "metadata": {},
   "outputs": [],
   "source": [
    "test_x = test.iloc[:,1:]\n",
    "test_y = test.iloc[:,0]"
   ]
  },
  {
   "cell_type": "code",
   "execution_count": null,
   "metadata": {},
   "outputs": [],
   "source": [
    "encoder =  LabelEncoder()\n",
    "y1 = encoder.fit_transform(test_y)\n",
    "test_y = pd.get_dummies(y1).values\n",
    "test_y"
   ]
  },
  {
   "cell_type": "code",
   "execution_count": null,
   "metadata": {},
   "outputs": [],
   "source": [
    "test_x = (test_x - np.min(test_x)) / (np.max(test_x) - np.min(test_x))"
   ]
  },
  {
   "cell_type": "code",
   "execution_count": 128,
   "metadata": {},
   "outputs": [
    {
     "name": "stdout",
     "output_type": "stream",
     "text": [
      "10/10 [==============================] - 0s 199us/step\n",
      "Accuracy = 0.30\n"
     ]
    }
   ],
   "source": [
    "loss, accuracy = model.evaluate(test_x, test_y)\n",
    "print(\"Accuracy = {:.2f}\".format(accuracy))"
   ]
  },
  {
   "cell_type": "code",
   "execution_count": 144,
   "metadata": {},
   "outputs": [
    {
     "name": "stdout",
     "output_type": "stream",
     "text": [
      "Predict : M , Real : F\n",
      "Predict : M , Real : M\n",
      "Predict : M , Real : F\n",
      "Predict : M , Real : F\n",
      "Predict : M , Real : F\n",
      "Predict : M , Real : M\n",
      "Predict : M , Real : F\n",
      "Predict : M , Real : F\n",
      "Predict : F , Real : F\n",
      "Predict : M , Real : F\n",
      "0.3\n"
     ]
    }
   ],
   "source": [
    "from sklearn.metrics import accuracy_score\n",
    "pred_out = model.predict(test_x)\n",
    "\n",
    "real =[]\n",
    "pred_out_idex=[]\n",
    "class_names=['F','M']\n",
    "\n",
    "for i,pred in zip(range(0, len(pred_out)), pred_out) :\n",
    "    print(\"Predict :\",class_names[np.argmax(pred)], \", Real :\", class_names[test_y[i,1]])\n",
    "    real.append(class_names.index(class_names[test_y[i,1]]))\n",
    "    pred_out_idex.append(np.argmax(pred))\n",
    "    \n",
    "# get the accuracy\n",
    "print (accuracy_score(real, pred_out_idex))"
   ]
  },
  {
   "cell_type": "code",
   "execution_count": null,
   "metadata": {},
   "outputs": [],
   "source": []
  }
 ],
 "metadata": {
  "kernelspec": {
   "display_name": "Python 3",
   "language": "python",
   "name": "python3"
  },
  "language_info": {
   "codemirror_mode": {
    "name": "ipython",
    "version": 3
   },
   "file_extension": ".py",
   "mimetype": "text/x-python",
   "name": "python",
   "nbconvert_exporter": "python",
   "pygments_lexer": "ipython3",
   "version": "3.7.6"
  }
 },
 "nbformat": 4,
 "nbformat_minor": 4
}
