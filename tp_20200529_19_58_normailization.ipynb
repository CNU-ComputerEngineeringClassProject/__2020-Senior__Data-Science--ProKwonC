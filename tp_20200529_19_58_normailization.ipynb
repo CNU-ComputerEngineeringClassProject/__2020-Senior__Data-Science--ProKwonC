{
 "cells": [
  {
   "cell_type": "code",
   "execution_count": 94,
   "metadata": {},
   "outputs": [],
   "source": [
    "from os.path import join\n",
    "import numpy as np\n",
    "import pandas as pd\n",
    "import matplotlib.pyplot as plt"
   ]
  },
  {
   "cell_type": "code",
   "execution_count": 95,
   "metadata": {},
   "outputs": [
    {
     "data": {
      "text/html": [
       "<div>\n",
       "<style scoped>\n",
       "    .dataframe tbody tr th:only-of-type {\n",
       "        vertical-align: middle;\n",
       "    }\n",
       "\n",
       "    .dataframe tbody tr th {\n",
       "        vertical-align: top;\n",
       "    }\n",
       "\n",
       "    .dataframe thead th {\n",
       "        text-align: right;\n",
       "    }\n",
       "</style>\n",
       "<table border=\"1\" class=\"dataframe\">\n",
       "  <thead>\n",
       "    <tr style=\"text-align: right;\">\n",
       "      <th></th>\n",
       "      <th>대여일자</th>\n",
       "      <th>대여시간</th>\n",
       "      <th>대여소번호</th>\n",
       "      <th>대여소명</th>\n",
       "      <th>대여구분코드</th>\n",
       "      <th>성별</th>\n",
       "      <th>연령대코드</th>\n",
       "      <th>이용건수</th>\n",
       "      <th>운동량</th>\n",
       "      <th>탄소량</th>\n",
       "      <th>이동거리</th>\n",
       "      <th>사용시간</th>\n",
       "    </tr>\n",
       "  </thead>\n",
       "  <tbody>\n",
       "    <tr>\n",
       "      <th>0</th>\n",
       "      <td>2019-09-02</td>\n",
       "      <td>13</td>\n",
       "      <td>212</td>\n",
       "      <td>212. 여의도역 1번출구 옆</td>\n",
       "      <td>정기권</td>\n",
       "      <td>F</td>\n",
       "      <td>70대~</td>\n",
       "      <td>3</td>\n",
       "      <td>123.3</td>\n",
       "      <td>1.11</td>\n",
       "      <td>4790</td>\n",
       "      <td>67</td>\n",
       "    </tr>\n",
       "    <tr>\n",
       "      <th>1</th>\n",
       "      <td>2019-09-13</td>\n",
       "      <td>12</td>\n",
       "      <td>279</td>\n",
       "      <td>279. 영등포 푸르지오 아파트</td>\n",
       "      <td>정기권</td>\n",
       "      <td>NaN</td>\n",
       "      <td>70대~</td>\n",
       "      <td>3</td>\n",
       "      <td>88.75</td>\n",
       "      <td>0.72</td>\n",
       "      <td>3070</td>\n",
       "      <td>26</td>\n",
       "    </tr>\n",
       "  </tbody>\n",
       "</table>\n",
       "</div>"
      ],
      "text/plain": [
       "         대여일자  대여시간  대여소번호               대여소명 대여구분코드   성별 연령대코드  이용건수    운동량  \\\n",
       "0  2019-09-02    13    212   212. 여의도역 1번출구 옆    정기권    F  70대~     3  123.3   \n",
       "1  2019-09-13    12    279  279. 영등포 푸르지오 아파트    정기권  NaN  70대~     3  88.75   \n",
       "\n",
       "    탄소량  이동거리  사용시간  \n",
       "0  1.11  4790    67  \n",
       "1  0.72  3070    26  "
      ]
     },
     "execution_count": 95,
     "metadata": {},
     "output_type": "execute_result"
    }
   ],
   "source": [
    "#Data Import\n",
    "real_data=pd.read_csv(join('data','Seoul_public_bike.csv'), encoding='CP949')\n",
    "real_data.head(2) #table로 보여주어 직관적이다."
   ]
  },
  {
   "cell_type": "markdown",
   "metadata": {},
   "source": [
    "## data preprocessing"
   ]
  },
  {
   "cell_type": "code",
   "execution_count": 96,
   "metadata": {
    "scrolled": false
   },
   "outputs": [
    {
     "data": {
      "text/html": [
       "<div>\n",
       "<style scoped>\n",
       "    .dataframe tbody tr th:only-of-type {\n",
       "        vertical-align: middle;\n",
       "    }\n",
       "\n",
       "    .dataframe tbody tr th {\n",
       "        vertical-align: top;\n",
       "    }\n",
       "\n",
       "    .dataframe thead th {\n",
       "        text-align: right;\n",
       "    }\n",
       "</style>\n",
       "<table border=\"1\" class=\"dataframe\">\n",
       "  <thead>\n",
       "    <tr style=\"text-align: right;\">\n",
       "      <th></th>\n",
       "      <th>성별</th>\n",
       "      <th>이용건수</th>\n",
       "      <th>운동량</th>\n",
       "      <th>탄소량</th>\n",
       "      <th>이동거리</th>\n",
       "      <th>사용시간</th>\n",
       "    </tr>\n",
       "  </thead>\n",
       "  <tbody>\n",
       "    <tr>\n",
       "      <th>0</th>\n",
       "      <td>F</td>\n",
       "      <td>3</td>\n",
       "      <td>123.3</td>\n",
       "      <td>1.11</td>\n",
       "      <td>4790</td>\n",
       "      <td>67</td>\n",
       "    </tr>\n",
       "    <tr>\n",
       "      <th>1</th>\n",
       "      <td>NaN</td>\n",
       "      <td>3</td>\n",
       "      <td>88.75</td>\n",
       "      <td>0.72</td>\n",
       "      <td>3070</td>\n",
       "      <td>26</td>\n",
       "    </tr>\n",
       "    <tr>\n",
       "      <th>2</th>\n",
       "      <td>M</td>\n",
       "      <td>3</td>\n",
       "      <td>820.87</td>\n",
       "      <td>5.07</td>\n",
       "      <td>21820</td>\n",
       "      <td>168</td>\n",
       "    </tr>\n",
       "    <tr>\n",
       "      <th>3</th>\n",
       "      <td>F</td>\n",
       "      <td>3</td>\n",
       "      <td>21.11</td>\n",
       "      <td>0.19</td>\n",
       "      <td>820</td>\n",
       "      <td>74</td>\n",
       "    </tr>\n",
       "    <tr>\n",
       "      <th>4</th>\n",
       "      <td>F</td>\n",
       "      <td>2</td>\n",
       "      <td>472.59</td>\n",
       "      <td>3.08</td>\n",
       "      <td>13260</td>\n",
       "      <td>112</td>\n",
       "    </tr>\n",
       "  </tbody>\n",
       "</table>\n",
       "</div>"
      ],
      "text/plain": [
       "    성별  이용건수     운동량   탄소량   이동거리  사용시간\n",
       "0    F     3   123.3  1.11   4790    67\n",
       "1  NaN     3   88.75  0.72   3070    26\n",
       "2    M     3  820.87  5.07  21820   168\n",
       "3    F     3   21.11  0.19    820    74\n",
       "4    F     2  472.59  3.08  13260   112"
      ]
     },
     "execution_count": 96,
     "metadata": {},
     "output_type": "execute_result"
    }
   ],
   "source": [
    "dp = real_data[['성별','이용건수', '운동량', '탄소량','이동거리','사용시간']]\n",
    "dp.head(5)"
   ]
  },
  {
   "cell_type": "code",
   "execution_count": 97,
   "metadata": {
    "scrolled": true
   },
   "outputs": [
    {
     "data": {
      "text/plain": [
       "(1000000, 6)"
      ]
     },
     "execution_count": 97,
     "metadata": {},
     "output_type": "execute_result"
    }
   ],
   "source": [
    "dp.shape"
   ]
  },
  {
   "cell_type": "code",
   "execution_count": 98,
   "metadata": {
    "scrolled": true
   },
   "outputs": [
    {
     "name": "stdout",
     "output_type": "stream",
     "text": [
      "성별\n",
      "F    168698\n",
      "M    264494\n",
      "f       326\n",
      "m       413\n",
      "dtype: int64\n"
     ]
    }
   ],
   "source": [
    "class_counts = dp.groupby('성별').size()\n",
    "print(class_counts)"
   ]
  },
  {
   "cell_type": "code",
   "execution_count": 99,
   "metadata": {},
   "outputs": [
    {
     "name": "stderr",
     "output_type": "stream",
     "text": [
      "C:\\Users\\Una\\anaconda3\\lib\\site-packages\\pandas\\core\\indexing.py:965: SettingWithCopyWarning: \n",
      "A value is trying to be set on a copy of a slice from a DataFrame.\n",
      "Try using .loc[row_indexer,col_indexer] = value instead\n",
      "\n",
      "See the caveats in the documentation: https://pandas.pydata.org/pandas-docs/stable/user_guide/indexing.html#returning-a-view-versus-a-copy\n",
      "  self.obj[item] = s\n"
     ]
    }
   ],
   "source": [
    "dp.loc[dp['성별'] == 'f', '성별'] = 'F'\n",
    "dp.loc[dp['성별'] == 'm', '성별'] = 'M'"
   ]
  },
  {
   "cell_type": "code",
   "execution_count": 100,
   "metadata": {},
   "outputs": [
    {
     "name": "stdout",
     "output_type": "stream",
     "text": [
      "성별      566069\n",
      "이용건수         0\n",
      "운동량          0\n",
      "탄소량          0\n",
      "이동거리         0\n",
      "사용시간         0\n",
      "dtype: int64\n"
     ]
    }
   ],
   "source": [
    "print(dp.isnull().sum())"
   ]
  },
  {
   "cell_type": "code",
   "execution_count": 101,
   "metadata": {},
   "outputs": [],
   "source": [
    "dp = dp.dropna(subset=['성별'])"
   ]
  },
  {
   "cell_type": "code",
   "execution_count": 102,
   "metadata": {
    "scrolled": true
   },
   "outputs": [
    {
     "data": {
      "text/plain": [
       "성별      object\n",
       "이용건수     int64\n",
       "운동량     object\n",
       "탄소량     object\n",
       "이동거리     int64\n",
       "사용시간     int64\n",
       "dtype: object"
      ]
     },
     "execution_count": 102,
     "metadata": {},
     "output_type": "execute_result"
    }
   ],
   "source": [
    "dp.dtypes"
   ]
  },
  {
   "cell_type": "code",
   "execution_count": 103,
   "metadata": {},
   "outputs": [],
   "source": [
    "idx_n = dp[dp['운동량']=='\\\\N'].index\n",
    "dp = dp.drop(idx_n)\n",
    "dp['운동량'] = pd.to_numeric(dp['운동량'])"
   ]
  },
  {
   "cell_type": "code",
   "execution_count": 104,
   "metadata": {},
   "outputs": [],
   "source": [
    "idx_n = dp[dp['탄소량']=='\\\\N'].index\n",
    "dp = dp.drop(idx_n)\n",
    "dp['탄소량'] = pd.to_numeric(dp['탄소량'])"
   ]
  },
  {
   "cell_type": "code",
   "execution_count": 105,
   "metadata": {},
   "outputs": [],
   "source": [
    "dp['탄소량'] = pd.to_numeric(dp['탄소량'] / dp['이용건수'])\n",
    "dp['운동량'] = pd.to_numeric(dp['운동량'] / dp['이용건수'])\n",
    "dp['사용시간'] = pd.to_numeric(dp['사용시간'] / dp['이용건수'])\n",
    "dp['이동거리'] = pd.to_numeric(dp['이동거리'] / dp['이용건수'])\n",
    "del dp['이용건수']"
   ]
  },
  {
   "cell_type": "code",
   "execution_count": 106,
   "metadata": {
    "scrolled": false
   },
   "outputs": [
    {
     "name": "stdout",
     "output_type": "stream",
     "text": [
      "           운동량       탄소량      이동거리      사용시간\n",
      "운동량   1.000000  0.981873  0.981873  0.209461\n",
      "탄소량   0.981873  1.000000  1.000000  0.216580\n",
      "이동거리  0.981873  1.000000  1.000000  0.216581\n",
      "사용시간  0.209461  0.216580  0.216581  1.000000\n"
     ]
    }
   ],
   "source": [
    "correlations = dp.corr(method='pearson')\n",
    "print(correlations)"
   ]
  },
  {
   "cell_type": "code",
   "execution_count": 107,
   "metadata": {},
   "outputs": [],
   "source": [
    "%matplotlib inline \n",
    "#notebook을 실행한 브라우저에서 바로 그림을 볼 수 있게 해주는 것\n",
    "import matplotlib.pyplot as plt\n",
    "data=dp"
   ]
  },
  {
   "cell_type": "code",
   "execution_count": 108,
   "metadata": {
    "scrolled": true
   },
   "outputs": [
    {
     "data": {
      "text/html": [
       "<div>\n",
       "<style scoped>\n",
       "    .dataframe tbody tr th:only-of-type {\n",
       "        vertical-align: middle;\n",
       "    }\n",
       "\n",
       "    .dataframe tbody tr th {\n",
       "        vertical-align: top;\n",
       "    }\n",
       "\n",
       "    .dataframe thead th {\n",
       "        text-align: right;\n",
       "    }\n",
       "</style>\n",
       "<table border=\"1\" class=\"dataframe\">\n",
       "  <thead>\n",
       "    <tr style=\"text-align: right;\">\n",
       "      <th></th>\n",
       "      <th>성별</th>\n",
       "      <th>운동량</th>\n",
       "      <th>탄소량</th>\n",
       "      <th>이동거리</th>\n",
       "      <th>사용시간</th>\n",
       "    </tr>\n",
       "  </thead>\n",
       "  <tbody>\n",
       "    <tr>\n",
       "      <th>0</th>\n",
       "      <td>F</td>\n",
       "      <td>41.100000</td>\n",
       "      <td>0.370000</td>\n",
       "      <td>1596.666667</td>\n",
       "      <td>22.333333</td>\n",
       "    </tr>\n",
       "    <tr>\n",
       "      <th>2</th>\n",
       "      <td>M</td>\n",
       "      <td>273.623333</td>\n",
       "      <td>1.690000</td>\n",
       "      <td>7273.333333</td>\n",
       "      <td>56.000000</td>\n",
       "    </tr>\n",
       "    <tr>\n",
       "      <th>3</th>\n",
       "      <td>F</td>\n",
       "      <td>7.036667</td>\n",
       "      <td>0.063333</td>\n",
       "      <td>273.333333</td>\n",
       "      <td>24.666667</td>\n",
       "    </tr>\n",
       "    <tr>\n",
       "      <th>4</th>\n",
       "      <td>F</td>\n",
       "      <td>236.295000</td>\n",
       "      <td>1.540000</td>\n",
       "      <td>6630.000000</td>\n",
       "      <td>56.000000</td>\n",
       "    </tr>\n",
       "    <tr>\n",
       "      <th>6</th>\n",
       "      <td>F</td>\n",
       "      <td>39.770000</td>\n",
       "      <td>0.355000</td>\n",
       "      <td>1545.000000</td>\n",
       "      <td>7.500000</td>\n",
       "    </tr>\n",
       "    <tr>\n",
       "      <th>7</th>\n",
       "      <td>M</td>\n",
       "      <td>31.275000</td>\n",
       "      <td>0.285000</td>\n",
       "      <td>1215.000000</td>\n",
       "      <td>8.500000</td>\n",
       "    </tr>\n",
       "    <tr>\n",
       "      <th>8</th>\n",
       "      <td>F</td>\n",
       "      <td>18.020000</td>\n",
       "      <td>0.165000</td>\n",
       "      <td>700.000000</td>\n",
       "      <td>36.000000</td>\n",
       "    </tr>\n",
       "    <tr>\n",
       "      <th>10</th>\n",
       "      <td>F</td>\n",
       "      <td>27.800000</td>\n",
       "      <td>0.275000</td>\n",
       "      <td>1170.000000</td>\n",
       "      <td>30.000000</td>\n",
       "    </tr>\n",
       "    <tr>\n",
       "      <th>12</th>\n",
       "      <td>F</td>\n",
       "      <td>19.800000</td>\n",
       "      <td>0.230000</td>\n",
       "      <td>1000.000000</td>\n",
       "      <td>6.500000</td>\n",
       "    </tr>\n",
       "    <tr>\n",
       "      <th>13</th>\n",
       "      <td>F</td>\n",
       "      <td>22.265000</td>\n",
       "      <td>0.200000</td>\n",
       "      <td>865.000000</td>\n",
       "      <td>25.000000</td>\n",
       "    </tr>\n",
       "    <tr>\n",
       "      <th>14</th>\n",
       "      <td>F</td>\n",
       "      <td>73.065000</td>\n",
       "      <td>0.955000</td>\n",
       "      <td>4100.000000</td>\n",
       "      <td>44.500000</td>\n",
       "    </tr>\n",
       "  </tbody>\n",
       "</table>\n",
       "</div>"
      ],
      "text/plain": [
       "   성별         운동량       탄소량         이동거리       사용시간\n",
       "0   F   41.100000  0.370000  1596.666667  22.333333\n",
       "2   M  273.623333  1.690000  7273.333333  56.000000\n",
       "3   F    7.036667  0.063333   273.333333  24.666667\n",
       "4   F  236.295000  1.540000  6630.000000  56.000000\n",
       "6   F   39.770000  0.355000  1545.000000   7.500000\n",
       "7   M   31.275000  0.285000  1215.000000   8.500000\n",
       "8   F   18.020000  0.165000   700.000000  36.000000\n",
       "10  F   27.800000  0.275000  1170.000000  30.000000\n",
       "12  F   19.800000  0.230000  1000.000000   6.500000\n",
       "13  F   22.265000  0.200000   865.000000  25.000000\n",
       "14  F   73.065000  0.955000  4100.000000  44.500000"
      ]
     },
     "execution_count": 108,
     "metadata": {},
     "output_type": "execute_result"
    }
   ],
   "source": [
    "data.head(11)"
   ]
  },
  {
   "cell_type": "code",
   "execution_count": 109,
   "metadata": {
    "scrolled": true
   },
   "outputs": [
    {
     "data": {
      "text/plain": [
       "성별       object\n",
       "운동량     float64\n",
       "탄소량     float64\n",
       "이동거리    float64\n",
       "사용시간    float64\n",
       "dtype: object"
      ]
     },
     "execution_count": 109,
     "metadata": {},
     "output_type": "execute_result"
    }
   ],
   "source": [
    "data.dtypes"
   ]
  },
  {
   "cell_type": "code",
   "execution_count": 161,
   "metadata": {},
   "outputs": [
    {
     "name": "stderr",
     "output_type": "stream",
     "text": [
      "C:\\Users\\Una\\anaconda3\\lib\\site-packages\\matplotlib\\backends\\backend_agg.py:211: RuntimeWarning: Glyph 50868 missing from current font.\n",
      "  font.set_text(s, 0.0, flags=flags)\n",
      "C:\\Users\\Una\\anaconda3\\lib\\site-packages\\matplotlib\\backends\\backend_agg.py:211: RuntimeWarning: Glyph 46041 missing from current font.\n",
      "  font.set_text(s, 0.0, flags=flags)\n",
      "C:\\Users\\Una\\anaconda3\\lib\\site-packages\\matplotlib\\backends\\backend_agg.py:211: RuntimeWarning: Glyph 47049 missing from current font.\n",
      "  font.set_text(s, 0.0, flags=flags)\n",
      "C:\\Users\\Una\\anaconda3\\lib\\site-packages\\matplotlib\\backends\\backend_agg.py:180: RuntimeWarning: Glyph 50868 missing from current font.\n",
      "  font.set_text(s, 0, flags=flags)\n",
      "C:\\Users\\Una\\anaconda3\\lib\\site-packages\\matplotlib\\backends\\backend_agg.py:180: RuntimeWarning: Glyph 46041 missing from current font.\n",
      "  font.set_text(s, 0, flags=flags)\n",
      "C:\\Users\\Una\\anaconda3\\lib\\site-packages\\matplotlib\\backends\\backend_agg.py:180: RuntimeWarning: Glyph 47049 missing from current font.\n",
      "  font.set_text(s, 0, flags=flags)\n",
      "C:\\Users\\Una\\anaconda3\\lib\\site-packages\\matplotlib\\backends\\backend_agg.py:211: RuntimeWarning: Glyph 53444 missing from current font.\n",
      "  font.set_text(s, 0.0, flags=flags)\n",
      "C:\\Users\\Una\\anaconda3\\lib\\site-packages\\matplotlib\\backends\\backend_agg.py:211: RuntimeWarning: Glyph 49548 missing from current font.\n",
      "  font.set_text(s, 0.0, flags=flags)\n",
      "C:\\Users\\Una\\anaconda3\\lib\\site-packages\\matplotlib\\backends\\backend_agg.py:180: RuntimeWarning: Glyph 53444 missing from current font.\n",
      "  font.set_text(s, 0, flags=flags)\n",
      "C:\\Users\\Una\\anaconda3\\lib\\site-packages\\matplotlib\\backends\\backend_agg.py:180: RuntimeWarning: Glyph 49548 missing from current font.\n",
      "  font.set_text(s, 0, flags=flags)\n",
      "C:\\Users\\Una\\anaconda3\\lib\\site-packages\\matplotlib\\backends\\backend_agg.py:211: RuntimeWarning: Glyph 51060 missing from current font.\n",
      "  font.set_text(s, 0.0, flags=flags)\n",
      "C:\\Users\\Una\\anaconda3\\lib\\site-packages\\matplotlib\\backends\\backend_agg.py:211: RuntimeWarning: Glyph 44144 missing from current font.\n",
      "  font.set_text(s, 0.0, flags=flags)\n",
      "C:\\Users\\Una\\anaconda3\\lib\\site-packages\\matplotlib\\backends\\backend_agg.py:211: RuntimeWarning: Glyph 47532 missing from current font.\n",
      "  font.set_text(s, 0.0, flags=flags)\n",
      "C:\\Users\\Una\\anaconda3\\lib\\site-packages\\matplotlib\\backends\\backend_agg.py:180: RuntimeWarning: Glyph 51060 missing from current font.\n",
      "  font.set_text(s, 0, flags=flags)\n",
      "C:\\Users\\Una\\anaconda3\\lib\\site-packages\\matplotlib\\backends\\backend_agg.py:180: RuntimeWarning: Glyph 44144 missing from current font.\n",
      "  font.set_text(s, 0, flags=flags)\n",
      "C:\\Users\\Una\\anaconda3\\lib\\site-packages\\matplotlib\\backends\\backend_agg.py:180: RuntimeWarning: Glyph 47532 missing from current font.\n",
      "  font.set_text(s, 0, flags=flags)\n",
      "C:\\Users\\Una\\anaconda3\\lib\\site-packages\\matplotlib\\backends\\backend_agg.py:211: RuntimeWarning: Glyph 49324 missing from current font.\n",
      "  font.set_text(s, 0.0, flags=flags)\n",
      "C:\\Users\\Una\\anaconda3\\lib\\site-packages\\matplotlib\\backends\\backend_agg.py:211: RuntimeWarning: Glyph 50857 missing from current font.\n",
      "  font.set_text(s, 0.0, flags=flags)\n",
      "C:\\Users\\Una\\anaconda3\\lib\\site-packages\\matplotlib\\backends\\backend_agg.py:211: RuntimeWarning: Glyph 49884 missing from current font.\n",
      "  font.set_text(s, 0.0, flags=flags)\n",
      "C:\\Users\\Una\\anaconda3\\lib\\site-packages\\matplotlib\\backends\\backend_agg.py:211: RuntimeWarning: Glyph 44036 missing from current font.\n",
      "  font.set_text(s, 0.0, flags=flags)\n",
      "C:\\Users\\Una\\anaconda3\\lib\\site-packages\\matplotlib\\backends\\backend_agg.py:180: RuntimeWarning: Glyph 49324 missing from current font.\n",
      "  font.set_text(s, 0, flags=flags)\n",
      "C:\\Users\\Una\\anaconda3\\lib\\site-packages\\matplotlib\\backends\\backend_agg.py:180: RuntimeWarning: Glyph 50857 missing from current font.\n",
      "  font.set_text(s, 0, flags=flags)\n",
      "C:\\Users\\Una\\anaconda3\\lib\\site-packages\\matplotlib\\backends\\backend_agg.py:180: RuntimeWarning: Glyph 49884 missing from current font.\n",
      "  font.set_text(s, 0, flags=flags)\n",
      "C:\\Users\\Una\\anaconda3\\lib\\site-packages\\matplotlib\\backends\\backend_agg.py:180: RuntimeWarning: Glyph 44036 missing from current font.\n",
      "  font.set_text(s, 0, flags=flags)\n"
     ]
    },
    {
     "data": {
      "image/png": "[encoded data removed]",
      "text/plain": [
       "<Figure size 432x288 with 16 Axes>"
      ]
     },
     "metadata": {
      "needs_background": "light"
     },
     "output_type": "display_data"
    }
   ],
   "source": [
    "from pandas.plotting import scatter_matrix\n",
    "scatter_matrix(data)\n",
    "plt.show()"
   ]
  },
  {
   "cell_type": "code",
   "execution_count": 110,
   "metadata": {},
   "outputs": [
    {
     "name": "stdout",
     "output_type": "stream",
     "text": [
      "(432447, 5)\n",
      "(10, 5)\n",
      "(432437, 5)\n"
     ]
    }
   ],
   "source": [
    "test = dp.iloc[-10:,:]\n",
    "train = dp.iloc[:-10,:]\n",
    "\n",
    "print(dp.shape)\n",
    "print(test.shape)\n",
    "print(train.shape)"
   ]
  },
  {
   "cell_type": "code",
   "execution_count": 111,
   "metadata": {},
   "outputs": [],
   "source": [
    "# 혹은 scikit learn에서 제공해주는 함수를 사용할 수도 있음\n",
    "## )r you can use just this \n",
    "from sklearn.model_selection import train_test_split\n",
    "trnx, tstx, trny, tsty = train_test_split(train.iloc[:,1:], train.iloc[:,0], test_size=0.3, random_state=123)"
   ]
  },
  {
   "cell_type": "code",
   "execution_count": 112,
   "metadata": {},
   "outputs": [
    {
     "data": {
      "text/plain": [
       "array([[0, 1],\n",
       "       [1, 0],\n",
       "       [1, 0],\n",
       "       ...,\n",
       "       [0, 1],\n",
       "       [1, 0],\n",
       "       [0, 1]], dtype=uint8)"
      ]
     },
     "execution_count": 112,
     "metadata": {},
     "output_type": "execute_result"
    }
   ],
   "source": [
    "from sklearn.preprocessing import LabelEncoder\n",
    "\n",
    "encoder =  LabelEncoder()\n",
    "y1 = encoder.fit_transform(trny)\n",
    "trny = pd.get_dummies(y1).values\n",
    "trny"
   ]
  },
  {
   "cell_type": "code",
   "execution_count": 113,
   "metadata": {
    "scrolled": true
   },
   "outputs": [
    {
     "data": {
      "text/plain": [
       "array([[0, 1],\n",
       "       [0, 1],\n",
       "       [0, 1],\n",
       "       ...,\n",
       "       [1, 0],\n",
       "       [0, 1],\n",
       "       [0, 1]], dtype=uint8)"
      ]
     },
     "execution_count": 113,
     "metadata": {},
     "output_type": "execute_result"
    }
   ],
   "source": [
    "encoder =  LabelEncoder()\n",
    "y1 = encoder.fit_transform(tsty)\n",
    "tsty = pd.get_dummies(y1).values\n",
    "tsty"
   ]
  },
  {
   "cell_type": "code",
   "execution_count": 114,
   "metadata": {
    "scrolled": true
   },
   "outputs": [
    {
     "data": {
      "text/plain": [
       "((302705, 4), (129732, 4), (302705, 2), (129732, 2))"
      ]
     },
     "execution_count": 114,
     "metadata": {},
     "output_type": "execute_result"
    }
   ],
   "source": [
    "trnx.shape, tstx.shape, trny.shape, tsty.shape"
   ]
  },
  {
   "cell_type": "code",
   "execution_count": 115,
   "metadata": {},
   "outputs": [],
   "source": [
    "from sklearn.preprocessing import MinMaxScaler\n",
    "scaler = MinMaxScaler()\n",
    "trnx = scaler.fit_transform(trnx)\n",
    "tstx = scaler.transform(tstx)\n",
    "#trnx = (trnx - np.min(trnx)) / (np.max(trnx) - np.min(trnx))\n",
    "#tstx = (tstx - np.min(tstx)) / (np.max(tstx) - np.min(tstx))"
   ]
  },
  {
   "cell_type": "code",
   "execution_count": 116,
   "metadata": {},
   "outputs": [
    {
     "name": "stdout",
     "output_type": "stream",
     "text": [
      "Model: \"sequential_2\"\n",
      "_________________________________________________________________\n",
      "Layer (type)                 Output Shape              Param #   \n",
      "=================================================================\n",
      "dense_6 (Dense)              (None, 128)               640       \n",
      "_________________________________________________________________\n",
      "dense_7 (Dense)              (None, 64)                8256      \n",
      "_________________________________________________________________\n",
      "dropout_4 (Dropout)          (None, 64)                0         \n",
      "_________________________________________________________________\n",
      "dense_8 (Dense)              (None, 32)                2080      \n",
      "_________________________________________________________________\n",
      "dropout_5 (Dropout)          (None, 32)                0         \n",
      "_________________________________________________________________\n",
      "dense_9 (Dense)              (None, 16)                528       \n",
      "_________________________________________________________________\n",
      "dropout_6 (Dropout)          (None, 16)                0         \n",
      "_________________________________________________________________\n",
      "dense_10 (Dense)             (None, 2)                 34        \n",
      "=================================================================\n",
      "Total params: 11,538\n",
      "Trainable params: 11,538\n",
      "Non-trainable params: 0\n",
      "_________________________________________________________________\n"
     ]
    }
   ],
   "source": [
    "from keras.models import Sequential\n",
    "from keras.layers import Dense, Dropout\n",
    "from keras.optimizers import Adam\n",
    "\n",
    "model = Sequential()\n",
    "\n",
    "model.add(Dense(128, kernel_initializer='uniform',input_shape=(4,),activation='relu'))\n",
    "model.add(Dense(64, kernel_initializer='uniform',activation='relu'))\n",
    "model.add(Dropout(0.2))\n",
    "model.add(Dense(32, kernel_initializer='uniform',activation='relu'))\n",
    "model.add(Dropout(0.2))\n",
    "model.add(Dense(16, kernel_initializer='uniform',activation='relu'))\n",
    "model.add(Dropout(0.2))\n",
    "model.add(Dense(2, kernel_initializer='uniform',activation='softmax'))\n",
    "\n",
    "model.compile(loss='categorical_crossentropy', \n",
    "              optimizer='Adam', \n",
    "              metrics=['accuracy'])\n",
    "\n",
    "model.summary()"
   ]
  },
  {
   "cell_type": "code",
   "execution_count": 117,
   "metadata": {},
   "outputs": [
    {
     "name": "stdout",
     "output_type": "stream",
     "text": [
      "Train on 302705 samples, validate on 129732 samples\n",
      "Epoch 1/30\n",
      "302705/302705 [==============================] - 54s 177us/step - loss: 0.5826 - accuracy: 0.6937 - val_loss: 0.5408 - val_accuracy: 0.7138\n",
      "Epoch 2/30\n",
      "302705/302705 [==============================] - 45s 148us/step - loss: 0.5011 - accuracy: 0.7591 - val_loss: 0.4462 - val_accuracy: 0.7949\n",
      "Epoch 3/30\n",
      "302705/302705 [==============================] - 44s 144us/step - loss: 0.4860 - accuracy: 0.7674 - val_loss: 0.4484 - val_accuracy: 0.7963\n",
      "Epoch 4/30\n",
      "302705/302705 [==============================] - 46s 151us/step - loss: 0.4733 - accuracy: 0.7763 - val_loss: 0.4300 - val_accuracy: 0.7957\n",
      "Epoch 5/30\n",
      "302705/302705 [==============================] - 57s 190us/step - loss: 0.4681 - accuracy: 0.7790 - val_loss: 0.4303 - val_accuracy: 0.7918\n",
      "Epoch 6/30\n",
      "302705/302705 [==============================] - 59s 196us/step - loss: 0.4646 - accuracy: 0.7787 - val_loss: 0.4233 - val_accuracy: 0.7936\n",
      "Epoch 7/30\n",
      "302705/302705 [==============================] - 59s 194us/step - loss: 0.4581 - accuracy: 0.7816 - val_loss: 0.4369 - val_accuracy: 0.7919\n",
      "Epoch 8/30\n",
      "302705/302705 [==============================] - 63s 209us/step - loss: 0.4550 - accuracy: 0.7843 - val_loss: 0.4391 - val_accuracy: 0.79470.4549 - accuracy: \n",
      "Epoch 9/30\n",
      "302705/302705 [==============================] - 60s 199us/step - loss: 0.4539 - accuracy: 0.7841 - val_loss: 0.4228 - val_accuracy: 0.7948\n",
      "Epoch 10/30\n",
      "302705/302705 [==============================] - 59s 194us/step - loss: 0.4517 - accuracy: 0.7856 - val_loss: 0.4437 - val_accuracy: 0.7867\n",
      "Epoch 11/30\n",
      "302705/302705 [==============================] - 61s 201us/step - loss: 0.4515 - accuracy: 0.7857 - val_loss: 0.4196 - val_accuracy: 0.7999\n",
      "Epoch 12/30\n",
      "302705/302705 [==============================] - 61s 203us/step - loss: 0.4492 - accuracy: 0.7869 - val_loss: 0.4361 - val_accuracy: 0.7973\n",
      "Epoch 13/30\n",
      "302705/302705 [==============================] - 60s 199us/step - loss: 0.4481 - accuracy: 0.7877 - val_loss: 0.4527 - val_accuracy: 0.7821\n",
      "Epoch 14/30\n",
      "302705/302705 [==============================] - 62s 206us/step - loss: 0.4483 - accuracy: 0.7872 - val_loss: 0.4247 - val_accuracy: 0.7955\n",
      "Epoch 15/30\n",
      "302705/302705 [==============================] - 61s 201us/step - loss: 0.4449 - accuracy: 0.7883 - val_loss: 0.4196 - val_accuracy: 0.7998\n",
      "Epoch 16/30\n",
      "302705/302705 [==============================] - 61s 200us/step - loss: 0.4456 - accuracy: 0.7878 - val_loss: 0.4212 - val_accuracy: 0.7991\n",
      "Epoch 17/30\n",
      "302705/302705 [==============================] - 62s 205us/step - loss: 0.4432 - accuracy: 0.7895 - val_loss: 0.4210 - val_accuracy: 0.7998\n",
      "Epoch 18/30\n",
      "302705/302705 [==============================] - 61s 203us/step - loss: 0.4424 - accuracy: 0.7891 - val_loss: 0.5496 - val_accuracy: 0.7490\n",
      "Epoch 19/30\n",
      "302705/302705 [==============================] - 62s 203us/step - loss: 0.4415 - accuracy: 0.7903 - val_loss: 0.4147 - val_accuracy: 0.7978\n",
      "Epoch 20/30\n",
      "302705/302705 [==============================] - 59s 195us/step - loss: 0.4406 - accuracy: 0.7914 - val_loss: 0.4262 - val_accuracy: 0.7981\n",
      "Epoch 21/30\n",
      "302705/302705 [==============================] - 59s 193us/step - loss: 0.4409 - accuracy: 0.7899 - val_loss: 0.4169 - val_accuracy: 0.8005\n",
      "Epoch 22/30\n",
      "302705/302705 [==============================] - 61s 203us/step - loss: 0.4408 - accuracy: 0.7909 - val_loss: 0.4237 - val_accuracy: 0.7942\n",
      "Epoch 23/30\n",
      "302705/302705 [==============================] - 60s 197us/step - loss: 0.4405 - accuracy: 0.7912 - val_loss: 0.4146 - val_accuracy: 0.7974\n",
      "Epoch 24/30\n",
      "302705/302705 [==============================] - 57s 189us/step - loss: 0.4387 - accuracy: 0.7918 - val_loss: 0.4140 - val_accuracy: 0.7992\n",
      "Epoch 25/30\n",
      "302705/302705 [==============================] - 60s 197us/step - loss: 0.4390 - accuracy: 0.7915 - val_loss: 0.4218 - val_accuracy: 0.7972\n",
      "Epoch 26/30\n",
      "302705/302705 [==============================] - 59s 197us/step - loss: 0.4383 - accuracy: 0.7922 - val_loss: 0.4334 - val_accuracy: 0.7908\n",
      "Epoch 27/30\n",
      "302705/302705 [==============================] - 60s 198us/step - loss: 0.4372 - accuracy: 0.7923 - val_loss: 0.4251 - val_accuracy: 0.7870\n",
      "Epoch 28/30\n",
      "302705/302705 [==============================] - 59s 196us/step - loss: 0.4378 - accuracy: 0.7921 - val_loss: 0.4338 - val_accuracy: 0.7833\n",
      "Epoch 29/30\n",
      "302705/302705 [==============================] - 62s 205us/step - loss: 0.4366 - accuracy: 0.7926 - val_loss: 0.4138 - val_accuracy: 0.7983\n",
      "Epoch 30/30\n",
      "302705/302705 [==============================] - 60s 200us/step - loss: 0.4357 - accuracy: 0.7931 - val_loss: 0.4182 - val_accuracy: 0.7990\n"
     ]
    }
   ],
   "source": [
    "hist = model.fit(trnx, trny, validation_data=(tstx, tsty), epochs=30)"
   ]
  },
  {
   "cell_type": "code",
   "execution_count": 118,
   "metadata": {
    "scrolled": false
   },
   "outputs": [
    {
     "data": {
      "image/png": "[encoded data removed]",
      "text/plain": [
       "<Figure size 864x576 with 1 Axes>"
      ]
     },
     "metadata": {
      "needs_background": "light"
     },
     "output_type": "display_data"
    }
   ],
   "source": [
    "import matplotlib.pyplot as plt\n",
    "%matplotlib inline\n",
    "\n",
    "plt.figure(figsize=(12,8))\n",
    "#plt.plot(hist.history['loss'])\n",
    "#plt.plot(hist.history['val_loss'])\n",
    "plt.plot(hist.history['accuracy'])\n",
    "plt.plot(hist.history['val_accuracy'])\n",
    "plt.legend(['loss','val_loss', 'accuracy','val_accuracy'])\n",
    "plt.grid()\n",
    "plt.show()"
   ]
  },
  {
   "cell_type": "code",
   "execution_count": 119,
   "metadata": {},
   "outputs": [
    {
     "data": {
      "image/png": "[encoded data removed]",
      "text/plain": [
       "<Figure size 864x576 with 1 Axes>"
      ]
     },
     "metadata": {
      "needs_background": "light"
     },
     "output_type": "display_data"
    }
   ],
   "source": [
    "import matplotlib.pyplot as plt\n",
    "%matplotlib inline\n",
    "\n",
    "plt.figure(figsize=(12,8))\n",
    "plt.plot(hist.history['loss'])\n",
    "plt.plot(hist.history['val_loss'])\n",
    "#plt.plot(hist.history['accuracy'])\n",
    "#plt.plot(hist.history['val_accuracy'])\n",
    "plt.legend(['loss','val_loss', 'accuracy','val_accuracy'])\n",
    "plt.grid()\n",
    "plt.show()"
   ]
  },
  {
   "cell_type": "code",
   "execution_count": 162,
   "metadata": {},
   "outputs": [],
   "source": [
    "test = dp.iloc[-10:,:]"
   ]
  },
  {
   "cell_type": "code",
   "execution_count": 163,
   "metadata": {},
   "outputs": [],
   "source": [
    "test_x = test.iloc[:,1:]\n",
    "test_y = test.iloc[:,0]"
   ]
  },
  {
   "cell_type": "code",
   "execution_count": 164,
   "metadata": {
    "scrolled": false
   },
   "outputs": [],
   "source": [
    "encoder =  LabelEncoder()\n",
    "y1 = encoder.fit_transform(test_y)\n",
    "test_y = pd.get_dummies(y1).values\n",
    "#test_y"
   ]
  },
  {
   "cell_type": "code",
   "execution_count": 165,
   "metadata": {},
   "outputs": [],
   "source": [
    "#test_x = (test_x - np.min(test_x)) / (np.max(test_x) - np.min(test_x))\n",
    "test_x = scaler.transform(test_x)"
   ]
  },
  {
   "cell_type": "code",
   "execution_count": 166,
   "metadata": {},
   "outputs": [
    {
     "name": "stdout",
     "output_type": "stream",
     "text": [
      "10/10 [==============================] - 0s 399us/step\n",
      "Accuracy = 0.60\n"
     ]
    }
   ],
   "source": [
    "loss, accuracy = model.evaluate(test_x, test_y)\n",
    "print(\"Accuracy = {:.2f}\".format(accuracy))"
   ]
  },
  {
   "cell_type": "code",
   "execution_count": 167,
   "metadata": {},
   "outputs": [
    {
     "name": "stdout",
     "output_type": "stream",
     "text": [
      "Predict : M , Real : M\n",
      "Predict : M , Real : M\n",
      "Predict : M , Real : M\n",
      "Predict : F , Real : M\n",
      "Predict : F , Real : M\n",
      "Predict : M , Real : M\n",
      "Predict : F , Real : M\n",
      "Predict : F , Real : F\n",
      "Predict : M , Real : F\n",
      "Predict : M , Real : M\n",
      "0.6\n"
     ]
    }
   ],
   "source": [
    "from sklearn.metrics import accuracy_score\n",
    "pred_out = model.predict(test_x)\n",
    "\n",
    "real =[]\n",
    "pred_out_idex=[]\n",
    "class_names=['F','M']\n",
    "\n",
    "for i,pred in zip(range(0, len(pred_out)), pred_out) :\n",
    "    print(\"Predict :\",class_names[np.argmax(pred)], \", Real :\", class_names[test_y[i,1]])\n",
    "    real.append(class_names.index(class_names[test_y[i,1]]))\n",
    "    pred_out_idex.append(np.argmax(pred))\n",
    "    \n",
    "# get the accuracy\n",
    "print (accuracy_score(real, pred_out_idex))"
   ]
  },
  {
   "cell_type": "code",
   "execution_count": null,
   "metadata": {},
   "outputs": [],
   "source": []
  }
 ],
 "metadata": {
  "kernelspec": {
   "display_name": "Python 3",
   "language": "python",
   "name": "python3"
  },
  "language_info": {
   "codemirror_mode": {
    "name": "ipython",
    "version": 3
   },
   "file_extension": ".py",
   "mimetype": "text/x-python",
   "name": "python",
   "nbconvert_exporter": "python",
   "pygments_lexer": "ipython3",
   "version": "3.7.6"
  }
 },
 "nbformat": 4,
 "nbformat_minor": 4
}
