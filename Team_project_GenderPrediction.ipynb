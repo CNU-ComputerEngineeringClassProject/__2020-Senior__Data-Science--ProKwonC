{
 "cells": [
  {
   "cell_type": "markdown",
   "metadata": {},
   "source": [
    "# Gender Prediction\n",
    "## team: KwonC"
   ]
  },
  {
   "cell_type": "code",
   "execution_count": 1,
   "metadata": {},
   "outputs": [],
   "source": [
    "from os.path import join\n",
    "import numpy as np\n",
    "import pandas as pd\n",
    "import matplotlib.pyplot as plt"
   ]
  },
  {
   "cell_type": "markdown",
   "metadata": {},
   "source": [
    "## Data Import"
   ]
  },
  {
   "cell_type": "code",
   "execution_count": 2,
   "metadata": {
    "scrolled": true
   },
   "outputs": [
    {
     "name": "stderr",
     "output_type": "stream",
     "text": [
      "/home/una/miniconda3/envs/py/lib/python3.7/site-packages/IPython/core/interactiveshell.py:3072: DtypeWarning: Columns (8,9) have mixed types.Specify dtype option on import or set low_memory=False.\n",
      "  interactivity=interactivity, compiler=compiler, result=result)\n"
     ]
    },
    {
     "data": {
      "text/html": [
       "<div>\n",
       "<style scoped>\n",
       "    .dataframe tbody tr th:only-of-type {\n",
       "        vertical-align: middle;\n",
       "    }\n",
       "\n",
       "    .dataframe tbody tr th {\n",
       "        vertical-align: top;\n",
       "    }\n",
       "\n",
       "    .dataframe thead th {\n",
       "        text-align: right;\n",
       "    }\n",
       "</style>\n",
       "<table border=\"1\" class=\"dataframe\">\n",
       "  <thead>\n",
       "    <tr style=\"text-align: right;\">\n",
       "      <th></th>\n",
       "      <th>대여일자</th>\n",
       "      <th>대여시간</th>\n",
       "      <th>대여소번호</th>\n",
       "      <th>대여소명</th>\n",
       "      <th>대여구분코드</th>\n",
       "      <th>성별</th>\n",
       "      <th>연령대코드</th>\n",
       "      <th>이용건수</th>\n",
       "      <th>운동량</th>\n",
       "      <th>탄소량</th>\n",
       "      <th>이동거리</th>\n",
       "      <th>사용시간</th>\n",
       "    </tr>\n",
       "  </thead>\n",
       "  <tbody>\n",
       "    <tr>\n",
       "      <th>0</th>\n",
       "      <td>2019-02-27</td>\n",
       "      <td>0</td>\n",
       "      <td>505</td>\n",
       "      <td>505. 자양사거리 광진아크로텔 앞</td>\n",
       "      <td>정기권</td>\n",
       "      <td>F</td>\n",
       "      <td>20대</td>\n",
       "      <td>1</td>\n",
       "      <td>23</td>\n",
       "      <td>0.28</td>\n",
       "      <td>1210</td>\n",
       "      <td>6</td>\n",
       "    </tr>\n",
       "    <tr>\n",
       "      <th>1</th>\n",
       "      <td>2019-02-27</td>\n",
       "      <td>0</td>\n",
       "      <td>1448</td>\n",
       "      <td>1448. 코스트코 상봉점</td>\n",
       "      <td>정기권</td>\n",
       "      <td>F</td>\n",
       "      <td>20대</td>\n",
       "      <td>1</td>\n",
       "      <td>25.48</td>\n",
       "      <td>0.23</td>\n",
       "      <td>990</td>\n",
       "      <td>5</td>\n",
       "    </tr>\n",
       "  </tbody>\n",
       "</table>\n",
       "</div>"
      ],
      "text/plain": [
       "         대여일자  대여시간  대여소번호                 대여소명 대여구분코드 성별 연령대코드  이용건수    운동량  \\\n",
       "0  2019-02-27     0    505  505. 자양사거리 광진아크로텔 앞    정기권  F   20대     1     23   \n",
       "1  2019-02-27     0   1448       1448. 코스트코 상봉점    정기권  F   20대     1  25.48   \n",
       "\n",
       "    탄소량  이동거리  사용시간  \n",
       "0  0.28  1210     6  \n",
       "1  0.23   990     5  "
      ]
     },
     "execution_count": 2,
     "metadata": {},
     "output_type": "execute_result"
    }
   ],
   "source": [
    "real_data=pd.read_csv(join('data','서울특별시_공공자전거_시간대별_대여정보_201812_201905(6).csv'), encoding='CP949')\n",
    "real_data.head(2)"
   ]
  },
  {
   "cell_type": "markdown",
   "metadata": {},
   "source": [
    "## data preprocessing"
   ]
  },
  {
   "cell_type": "code",
   "execution_count": 3,
   "metadata": {},
   "outputs": [],
   "source": [
    "genderless  = real_data.drop(real_data[real_data['성별'].notnull()].index)\n",
    "gender = real_data\n",
    "gender = gender.dropna(subset=['성별'])"
   ]
  },
  {
   "cell_type": "code",
   "execution_count": 4,
   "metadata": {
    "scrolled": false
   },
   "outputs": [
    {
     "data": {
      "text/html": [
       "<div>\n",
       "<style scoped>\n",
       "    .dataframe tbody tr th:only-of-type {\n",
       "        vertical-align: middle;\n",
       "    }\n",
       "\n",
       "    .dataframe tbody tr th {\n",
       "        vertical-align: top;\n",
       "    }\n",
       "\n",
       "    .dataframe thead th {\n",
       "        text-align: right;\n",
       "    }\n",
       "</style>\n",
       "<table border=\"1\" class=\"dataframe\">\n",
       "  <thead>\n",
       "    <tr style=\"text-align: right;\">\n",
       "      <th></th>\n",
       "      <th>성별</th>\n",
       "      <th>이용건수</th>\n",
       "      <th>운동량</th>\n",
       "      <th>탄소량</th>\n",
       "      <th>이동거리</th>\n",
       "      <th>사용시간</th>\n",
       "    </tr>\n",
       "  </thead>\n",
       "  <tbody>\n",
       "    <tr>\n",
       "      <th>0</th>\n",
       "      <td>F</td>\n",
       "      <td>1</td>\n",
       "      <td>23</td>\n",
       "      <td>0.28</td>\n",
       "      <td>1210</td>\n",
       "      <td>6</td>\n",
       "    </tr>\n",
       "    <tr>\n",
       "      <th>1</th>\n",
       "      <td>F</td>\n",
       "      <td>1</td>\n",
       "      <td>25.48</td>\n",
       "      <td>0.23</td>\n",
       "      <td>990</td>\n",
       "      <td>5</td>\n",
       "    </tr>\n",
       "    <tr>\n",
       "      <th>2</th>\n",
       "      <td>F</td>\n",
       "      <td>1</td>\n",
       "      <td>37.85</td>\n",
       "      <td>0.38</td>\n",
       "      <td>1620</td>\n",
       "      <td>10</td>\n",
       "    </tr>\n",
       "    <tr>\n",
       "      <th>3</th>\n",
       "      <td>F</td>\n",
       "      <td>1</td>\n",
       "      <td>11.94</td>\n",
       "      <td>0.13</td>\n",
       "      <td>580</td>\n",
       "      <td>3</td>\n",
       "    </tr>\n",
       "    <tr>\n",
       "      <th>4</th>\n",
       "      <td>F</td>\n",
       "      <td>2</td>\n",
       "      <td>87.98</td>\n",
       "      <td>0.87</td>\n",
       "      <td>3770</td>\n",
       "      <td>20</td>\n",
       "    </tr>\n",
       "  </tbody>\n",
       "</table>\n",
       "</div>"
      ],
      "text/plain": [
       "  성별  이용건수    운동량   탄소량  이동거리  사용시간\n",
       "0  F     1     23  0.28  1210     6\n",
       "1  F     1  25.48  0.23   990     5\n",
       "2  F     1  37.85  0.38  1620    10\n",
       "3  F     1  11.94  0.13   580     3\n",
       "4  F     2  87.98  0.87  3770    20"
      ]
     },
     "execution_count": 4,
     "metadata": {},
     "output_type": "execute_result"
    }
   ],
   "source": [
    "dataset = gender[['성별','이용건수', '운동량', '탄소량','이동거리','사용시간']]\n",
    "dataset.head(5)"
   ]
  },
  {
   "cell_type": "code",
   "execution_count": 5,
   "metadata": {
    "scrolled": true
   },
   "outputs": [
    {
     "data": {
      "text/plain": [
       "(750950, 6)"
      ]
     },
     "execution_count": 5,
     "metadata": {},
     "output_type": "execute_result"
    }
   ],
   "source": [
    "dataset.shape"
   ]
  },
  {
   "cell_type": "code",
   "execution_count": 6,
   "metadata": {
    "scrolled": true
   },
   "outputs": [
    {
     "name": "stdout",
     "output_type": "stream",
     "text": [
      "성별\n",
      "F    264640\n",
      "M    486310\n",
      "dtype: int64\n"
     ]
    }
   ],
   "source": [
    "class_counts = dataset.groupby('성별').size()\n",
    "print(class_counts)"
   ]
  },
  {
   "cell_type": "code",
   "execution_count": 7,
   "metadata": {},
   "outputs": [
    {
     "name": "stderr",
     "output_type": "stream",
     "text": [
      "/home/una/miniconda3/envs/py/lib/python3.7/site-packages/pandas/core/indexing.py:966: SettingWithCopyWarning: \n",
      "A value is trying to be set on a copy of a slice from a DataFrame.\n",
      "Try using .loc[row_indexer,col_indexer] = value instead\n",
      "\n",
      "See the caveats in the documentation: https://pandas.pydata.org/pandas-docs/stable/user_guide/indexing.html#returning-a-view-versus-a-copy\n",
      "  self.obj[item] = s\n"
     ]
    }
   ],
   "source": [
    "dataset.loc[dataset['성별'] == 'f', '성별'] = 'F'\n",
    "dataset.loc[dataset['성별'] == 'm', '성별'] = 'M'"
   ]
  },
  {
   "cell_type": "code",
   "execution_count": 8,
   "metadata": {
    "scrolled": true
   },
   "outputs": [
    {
     "data": {
      "text/plain": [
       "성별      object\n",
       "이용건수     int64\n",
       "운동량     object\n",
       "탄소량     object\n",
       "이동거리     int64\n",
       "사용시간     int64\n",
       "dtype: object"
      ]
     },
     "execution_count": 8,
     "metadata": {},
     "output_type": "execute_result"
    }
   ],
   "source": [
    "dataset.dtypes"
   ]
  },
  {
   "cell_type": "code",
   "execution_count": 9,
   "metadata": {},
   "outputs": [],
   "source": [
    "idx_n = dataset[dataset['운동량']=='\\\\N'].index\n",
    "dataset = dataset.drop(idx_n)\n",
    "dataset['운동량'] = pd.to_numeric(dataset['운동량'])"
   ]
  },
  {
   "cell_type": "code",
   "execution_count": 10,
   "metadata": {},
   "outputs": [],
   "source": [
    "idx_n = dataset[dataset['탄소량']=='\\\\N'].index\n",
    "dataset = dataset.drop(idx_n)\n",
    "dataset['탄소량'] = pd.to_numeric(dataset['탄소량'])"
   ]
  },
  {
   "cell_type": "code",
   "execution_count": 11,
   "metadata": {},
   "outputs": [],
   "source": [
    "dataset['탄소량'] = pd.to_numeric(dataset['탄소량'] / dataset['이용건수'])\n",
    "dataset['운동량'] = pd.to_numeric(dataset['운동량'] / dataset['이용건수'])\n",
    "dataset['사용시간'] = pd.to_numeric(dataset['사용시간'] / dataset['이용건수'])\n",
    "dataset['이동거리'] = pd.to_numeric(dataset['이동거리'] / dataset['이용건수'])\n",
    "del dataset['이용건수']"
   ]
  },
  {
   "cell_type": "code",
   "execution_count": 12,
   "metadata": {
    "scrolled": false
   },
   "outputs": [
    {
     "name": "stdout",
     "output_type": "stream",
     "text": [
      "           운동량       탄소량      이동거리      사용시간\n",
      "운동량   1.000000  0.977466  0.982096  0.221882\n",
      "탄소량   0.977466  1.000000  0.995369  0.229285\n",
      "이동거리  0.982096  0.995369  1.000000  0.230456\n",
      "사용시간  0.221882  0.229285  0.230456  1.000000\n"
     ]
    }
   ],
   "source": [
    "correlations = dataset.corr(method='pearson')\n",
    "print(correlations)"
   ]
  },
  {
   "cell_type": "code",
   "execution_count": 13,
   "metadata": {},
   "outputs": [],
   "source": [
    "%matplotlib inline \n",
    "import matplotlib.pyplot as plt"
   ]
  },
  {
   "cell_type": "code",
   "execution_count": 14,
   "metadata": {
    "scrolled": true
   },
   "outputs": [
    {
     "data": {
      "text/html": [
       "<div>\n",
       "<style scoped>\n",
       "    .dataframe tbody tr th:only-of-type {\n",
       "        vertical-align: middle;\n",
       "    }\n",
       "\n",
       "    .dataframe tbody tr th {\n",
       "        vertical-align: top;\n",
       "    }\n",
       "\n",
       "    .dataframe thead th {\n",
       "        text-align: right;\n",
       "    }\n",
       "</style>\n",
       "<table border=\"1\" class=\"dataframe\">\n",
       "  <thead>\n",
       "    <tr style=\"text-align: right;\">\n",
       "      <th></th>\n",
       "      <th>성별</th>\n",
       "      <th>운동량</th>\n",
       "      <th>탄소량</th>\n",
       "      <th>이동거리</th>\n",
       "      <th>사용시간</th>\n",
       "    </tr>\n",
       "  </thead>\n",
       "  <tbody>\n",
       "    <tr>\n",
       "      <th>0</th>\n",
       "      <td>F</td>\n",
       "      <td>23.00</td>\n",
       "      <td>0.280</td>\n",
       "      <td>1210.0</td>\n",
       "      <td>6.0</td>\n",
       "    </tr>\n",
       "    <tr>\n",
       "      <th>1</th>\n",
       "      <td>F</td>\n",
       "      <td>25.48</td>\n",
       "      <td>0.230</td>\n",
       "      <td>990.0</td>\n",
       "      <td>5.0</td>\n",
       "    </tr>\n",
       "    <tr>\n",
       "      <th>2</th>\n",
       "      <td>F</td>\n",
       "      <td>37.85</td>\n",
       "      <td>0.380</td>\n",
       "      <td>1620.0</td>\n",
       "      <td>10.0</td>\n",
       "    </tr>\n",
       "    <tr>\n",
       "      <th>3</th>\n",
       "      <td>F</td>\n",
       "      <td>11.94</td>\n",
       "      <td>0.130</td>\n",
       "      <td>580.0</td>\n",
       "      <td>3.0</td>\n",
       "    </tr>\n",
       "    <tr>\n",
       "      <th>4</th>\n",
       "      <td>F</td>\n",
       "      <td>43.99</td>\n",
       "      <td>0.435</td>\n",
       "      <td>1885.0</td>\n",
       "      <td>10.0</td>\n",
       "    </tr>\n",
       "    <tr>\n",
       "      <th>5</th>\n",
       "      <td>F</td>\n",
       "      <td>57.70</td>\n",
       "      <td>0.550</td>\n",
       "      <td>2350.0</td>\n",
       "      <td>14.0</td>\n",
       "    </tr>\n",
       "    <tr>\n",
       "      <th>6</th>\n",
       "      <td>F</td>\n",
       "      <td>43.86</td>\n",
       "      <td>0.480</td>\n",
       "      <td>2090.0</td>\n",
       "      <td>49.0</td>\n",
       "    </tr>\n",
       "    <tr>\n",
       "      <th>7</th>\n",
       "      <td>F</td>\n",
       "      <td>53.58</td>\n",
       "      <td>0.570</td>\n",
       "      <td>2460.0</td>\n",
       "      <td>9.0</td>\n",
       "    </tr>\n",
       "    <tr>\n",
       "      <th>8</th>\n",
       "      <td>F</td>\n",
       "      <td>47.32</td>\n",
       "      <td>0.550</td>\n",
       "      <td>2390.0</td>\n",
       "      <td>10.0</td>\n",
       "    </tr>\n",
       "    <tr>\n",
       "      <th>9</th>\n",
       "      <td>F</td>\n",
       "      <td>19.64</td>\n",
       "      <td>0.200</td>\n",
       "      <td>870.0</td>\n",
       "      <td>3.0</td>\n",
       "    </tr>\n",
       "    <tr>\n",
       "      <th>10</th>\n",
       "      <td>F</td>\n",
       "      <td>44.65</td>\n",
       "      <td>0.480</td>\n",
       "      <td>2050.0</td>\n",
       "      <td>11.0</td>\n",
       "    </tr>\n",
       "  </tbody>\n",
       "</table>\n",
       "</div>"
      ],
      "text/plain": [
       "   성별    운동량    탄소량    이동거리  사용시간\n",
       "0   F  23.00  0.280  1210.0   6.0\n",
       "1   F  25.48  0.230   990.0   5.0\n",
       "2   F  37.85  0.380  1620.0  10.0\n",
       "3   F  11.94  0.130   580.0   3.0\n",
       "4   F  43.99  0.435  1885.0  10.0\n",
       "5   F  57.70  0.550  2350.0  14.0\n",
       "6   F  43.86  0.480  2090.0  49.0\n",
       "7   F  53.58  0.570  2460.0   9.0\n",
       "8   F  47.32  0.550  2390.0  10.0\n",
       "9   F  19.64  0.200   870.0   3.0\n",
       "10  F  44.65  0.480  2050.0  11.0"
      ]
     },
     "execution_count": 14,
     "metadata": {},
     "output_type": "execute_result"
    }
   ],
   "source": [
    "dataset.head(11)"
   ]
  },
  {
   "cell_type": "code",
   "execution_count": 15,
   "metadata": {
    "scrolled": true
   },
   "outputs": [
    {
     "data": {
      "text/plain": [
       "성별       object\n",
       "운동량     float64\n",
       "탄소량     float64\n",
       "이동거리    float64\n",
       "사용시간    float64\n",
       "dtype: object"
      ]
     },
     "execution_count": 15,
     "metadata": {},
     "output_type": "execute_result"
    }
   ],
   "source": [
    "dataset.dtypes"
   ]
  },
  {
   "cell_type": "code",
   "execution_count": 16,
   "metadata": {},
   "outputs": [
    {
     "name": "stderr",
     "output_type": "stream",
     "text": [
      "/home/una/miniconda3/envs/py/lib/python3.7/site-packages/matplotlib/backends/backend_agg.py:214: RuntimeWarning: Glyph 50868 missing from current font.\n",
      "  font.set_text(s, 0.0, flags=flags)\n",
      "/home/una/miniconda3/envs/py/lib/python3.7/site-packages/matplotlib/backends/backend_agg.py:214: RuntimeWarning: Glyph 46041 missing from current font.\n",
      "  font.set_text(s, 0.0, flags=flags)\n",
      "/home/una/miniconda3/envs/py/lib/python3.7/site-packages/matplotlib/backends/backend_agg.py:214: RuntimeWarning: Glyph 47049 missing from current font.\n",
      "  font.set_text(s, 0.0, flags=flags)\n",
      "/home/una/miniconda3/envs/py/lib/python3.7/site-packages/matplotlib/backends/backend_agg.py:214: RuntimeWarning: Glyph 53444 missing from current font.\n",
      "  font.set_text(s, 0.0, flags=flags)\n",
      "/home/una/miniconda3/envs/py/lib/python3.7/site-packages/matplotlib/backends/backend_agg.py:214: RuntimeWarning: Glyph 49548 missing from current font.\n",
      "  font.set_text(s, 0.0, flags=flags)\n",
      "/home/una/miniconda3/envs/py/lib/python3.7/site-packages/matplotlib/backends/backend_agg.py:214: RuntimeWarning: Glyph 51060 missing from current font.\n",
      "  font.set_text(s, 0.0, flags=flags)\n",
      "/home/una/miniconda3/envs/py/lib/python3.7/site-packages/matplotlib/backends/backend_agg.py:214: RuntimeWarning: Glyph 44144 missing from current font.\n",
      "  font.set_text(s, 0.0, flags=flags)\n",
      "/home/una/miniconda3/envs/py/lib/python3.7/site-packages/matplotlib/backends/backend_agg.py:214: RuntimeWarning: Glyph 47532 missing from current font.\n",
      "  font.set_text(s, 0.0, flags=flags)\n",
      "/home/una/miniconda3/envs/py/lib/python3.7/site-packages/matplotlib/backends/backend_agg.py:214: RuntimeWarning: Glyph 49324 missing from current font.\n",
      "  font.set_text(s, 0.0, flags=flags)\n",
      "/home/una/miniconda3/envs/py/lib/python3.7/site-packages/matplotlib/backends/backend_agg.py:214: RuntimeWarning: Glyph 50857 missing from current font.\n",
      "  font.set_text(s, 0.0, flags=flags)\n",
      "/home/una/miniconda3/envs/py/lib/python3.7/site-packages/matplotlib/backends/backend_agg.py:214: RuntimeWarning: Glyph 49884 missing from current font.\n",
      "  font.set_text(s, 0.0, flags=flags)\n",
      "/home/una/miniconda3/envs/py/lib/python3.7/site-packages/matplotlib/backends/backend_agg.py:214: RuntimeWarning: Glyph 44036 missing from current font.\n",
      "  font.set_text(s, 0.0, flags=flags)\n",
      "/home/una/miniconda3/envs/py/lib/python3.7/site-packages/matplotlib/backends/backend_agg.py:183: RuntimeWarning: Glyph 50868 missing from current font.\n",
      "  font.set_text(s, 0, flags=flags)\n",
      "/home/una/miniconda3/envs/py/lib/python3.7/site-packages/matplotlib/backends/backend_agg.py:183: RuntimeWarning: Glyph 46041 missing from current font.\n",
      "  font.set_text(s, 0, flags=flags)\n",
      "/home/una/miniconda3/envs/py/lib/python3.7/site-packages/matplotlib/backends/backend_agg.py:183: RuntimeWarning: Glyph 47049 missing from current font.\n",
      "  font.set_text(s, 0, flags=flags)\n",
      "/home/una/miniconda3/envs/py/lib/python3.7/site-packages/matplotlib/backends/backend_agg.py:183: RuntimeWarning: Glyph 53444 missing from current font.\n",
      "  font.set_text(s, 0, flags=flags)\n",
      "/home/una/miniconda3/envs/py/lib/python3.7/site-packages/matplotlib/backends/backend_agg.py:183: RuntimeWarning: Glyph 49548 missing from current font.\n",
      "  font.set_text(s, 0, flags=flags)\n",
      "/home/una/miniconda3/envs/py/lib/python3.7/site-packages/matplotlib/backends/backend_agg.py:183: RuntimeWarning: Glyph 51060 missing from current font.\n",
      "  font.set_text(s, 0, flags=flags)\n",
      "/home/una/miniconda3/envs/py/lib/python3.7/site-packages/matplotlib/backends/backend_agg.py:183: RuntimeWarning: Glyph 44144 missing from current font.\n",
      "  font.set_text(s, 0, flags=flags)\n",
      "/home/una/miniconda3/envs/py/lib/python3.7/site-packages/matplotlib/backends/backend_agg.py:183: RuntimeWarning: Glyph 47532 missing from current font.\n",
      "  font.set_text(s, 0, flags=flags)\n",
      "/home/una/miniconda3/envs/py/lib/python3.7/site-packages/matplotlib/backends/backend_agg.py:183: RuntimeWarning: Glyph 49324 missing from current font.\n",
      "  font.set_text(s, 0, flags=flags)\n",
      "/home/una/miniconda3/envs/py/lib/python3.7/site-packages/matplotlib/backends/backend_agg.py:183: RuntimeWarning: Glyph 50857 missing from current font.\n",
      "  font.set_text(s, 0, flags=flags)\n",
      "/home/una/miniconda3/envs/py/lib/python3.7/site-packages/matplotlib/backends/backend_agg.py:183: RuntimeWarning: Glyph 49884 missing from current font.\n",
      "  font.set_text(s, 0, flags=flags)\n",
      "/home/una/miniconda3/envs/py/lib/python3.7/site-packages/matplotlib/backends/backend_agg.py:183: RuntimeWarning: Glyph 44036 missing from current font.\n",
      "  font.set_text(s, 0, flags=flags)\n"
     ]
    },
    {
     "data": {
      "image/png": "[encoded data removed]",
      "text/plain": [
       "<Figure size 432x288 with 16 Axes>"
      ]
     },
     "metadata": {
      "needs_background": "light"
     },
     "output_type": "display_data"
    }
   ],
   "source": [
    "from pandas.plotting import scatter_matrix\n",
    "scatter_matrix(dataset)\n",
    "plt.show()"
   ]
  },
  {
   "cell_type": "code",
   "execution_count": 17,
   "metadata": {},
   "outputs": [
    {
     "name": "stdout",
     "output_type": "stream",
     "text": [
      "(749665, 5)\n",
      "(100, 5)\n",
      "(749565, 5)\n"
     ]
    }
   ],
   "source": [
    "test = dataset.iloc[-100:,:]\n",
    "train = dataset.iloc[:-100,:]\n",
    "\n",
    "print(dataset.shape)\n",
    "print(test.shape)\n",
    "print(train.shape)"
   ]
  },
  {
   "cell_type": "code",
   "execution_count": 18,
   "metadata": {},
   "outputs": [],
   "source": [
    "from sklearn.model_selection import train_test_split\n",
    "trnx, tstx, trny, tsty = train_test_split(train.iloc[:,1:], train.iloc[:,0], test_size=0.3, random_state=123)"
   ]
  },
  {
   "cell_type": "code",
   "execution_count": 19,
   "metadata": {},
   "outputs": [
    {
     "data": {
      "text/plain": [
       "array([[1, 0],\n",
       "       [0, 1],\n",
       "       [0, 1],\n",
       "       ...,\n",
       "       [0, 1],\n",
       "       [0, 1],\n",
       "       [1, 0]], dtype=uint8)"
      ]
     },
     "execution_count": 19,
     "metadata": {},
     "output_type": "execute_result"
    }
   ],
   "source": [
    "from sklearn.preprocessing import LabelEncoder\n",
    "\n",
    "encoder =  LabelEncoder()\n",
    "y1 = encoder.fit_transform(trny)\n",
    "trny = pd.get_dummies(y1).values\n",
    "trny"
   ]
  },
  {
   "cell_type": "code",
   "execution_count": 20,
   "metadata": {
    "scrolled": true
   },
   "outputs": [
    {
     "data": {
      "text/plain": [
       "array([[0, 1],\n",
       "       [1, 0],\n",
       "       [0, 1],\n",
       "       ...,\n",
       "       [0, 1],\n",
       "       [1, 0],\n",
       "       [0, 1]], dtype=uint8)"
      ]
     },
     "execution_count": 20,
     "metadata": {},
     "output_type": "execute_result"
    }
   ],
   "source": [
    "encoder =  LabelEncoder()\n",
    "y1 = encoder.fit_transform(tsty)\n",
    "tsty = pd.get_dummies(y1).values\n",
    "tsty"
   ]
  },
  {
   "cell_type": "code",
   "execution_count": 21,
   "metadata": {
    "scrolled": true
   },
   "outputs": [
    {
     "data": {
      "text/plain": [
       "((524695, 4), (224870, 4), (524695, 2), (224870, 2))"
      ]
     },
     "execution_count": 21,
     "metadata": {},
     "output_type": "execute_result"
    }
   ],
   "source": [
    "trnx.shape, tstx.shape, trny.shape, tsty.shape"
   ]
  },
  {
   "cell_type": "code",
   "execution_count": 22,
   "metadata": {},
   "outputs": [],
   "source": [
    "from sklearn.preprocessing import MinMaxScaler\n",
    "scaler = MinMaxScaler()\n",
    "trnx = scaler.fit_transform(trnx)\n",
    "tstx = scaler.transform(tstx)"
   ]
  },
  {
   "cell_type": "code",
   "execution_count": 23,
   "metadata": {},
   "outputs": [
    {
     "name": "stdout",
     "output_type": "stream",
     "text": [
      "Model: \"sequential\"\n",
      "_________________________________________________________________\n",
      "Layer (type)                 Output Shape              Param #   \n",
      "=================================================================\n",
      "dense (Dense)                (None, 10)                50        \n",
      "_________________________________________________________________\n",
      "dense_1 (Dense)              (None, 20)                220       \n",
      "_________________________________________________________________\n",
      "dense_2 (Dense)              (None, 10)                210       \n",
      "_________________________________________________________________\n",
      "dense_3 (Dense)              (None, 2)                 22        \n",
      "=================================================================\n",
      "Total params: 502\n",
      "Trainable params: 502\n",
      "Non-trainable params: 0\n",
      "_________________________________________________________________\n"
     ]
    }
   ],
   "source": [
    "from tensorflow.keras.models import Sequential\n",
    "from tensorflow.keras.layers import Dense, Dropout\n",
    "from tensorflow.keras.optimizers import Adam\n",
    "\n",
    "model = Sequential()\n",
    "\n",
    "model.add(Dense(10, kernel_initializer='uniform',input_shape=(4,),activation='relu'))\n",
    "model.add(Dense(20, kernel_initializer='uniform',activation='relu'))\n",
    "model.add(Dense(10, kernel_initializer='uniform',activation='relu'))\n",
    "model.add(Dense(2, kernel_initializer='uniform',activation='sigmoid'))\n",
    "\n",
    "model.compile(loss='categorical_crossentropy', optimizer='Adam', metrics=['accuracy'])\n",
    "\n",
    "model.summary()"
   ]
  },
  {
   "cell_type": "code",
   "execution_count": 24,
   "metadata": {
    "scrolled": true
   },
   "outputs": [
    {
     "name": "stdout",
     "output_type": "stream",
     "text": [
      "Epoch 1/50\n",
      "52470/52470 [==============================] - 108s 2ms/step - loss: 0.5892 - accuracy: 0.6920 - val_loss: 0.4925 - val_accuracy: 0.7564\n",
      "Epoch 2/50\n",
      "52470/52470 [==============================] - 88s 2ms/step - loss: 0.4812 - accuracy: 0.7756 - val_loss: 0.4502 - val_accuracy: 0.7910\n",
      "Epoch 3/50\n",
      "52470/52470 [==============================] - 70s 1ms/step - loss: 0.4618 - accuracy: 0.7840 - val_loss: 0.4510 - val_accuracy: 0.7970\n",
      "Epoch 4/50\n",
      "52470/52470 [==============================] - 67s 1ms/step - loss: 0.4540 - accuracy: 0.7867 - val_loss: 0.4355 - val_accuracy: 0.7915\n",
      "Epoch 5/50\n",
      "52470/52470 [==============================] - 75s 1ms/step - loss: 0.4521 - accuracy: 0.7874 - val_loss: 0.4342 - val_accuracy: 0.7989\n",
      "Epoch 6/50\n",
      "52470/52470 [==============================] - 75s 1ms/step - loss: 0.4497 - accuracy: 0.7886 - val_loss: 0.4301 - val_accuracy: 0.7969\n",
      "Epoch 7/50\n",
      "52470/52470 [==============================] - 71s 1ms/step - loss: 0.4471 - accuracy: 0.7901 - val_loss: 0.4578 - val_accuracy: 0.7846\n",
      "Epoch 8/50\n",
      "52470/52470 [==============================] - 72s 1ms/step - loss: 0.4445 - accuracy: 0.7907 - val_loss: 0.4271 - val_accuracy: 0.8012\n",
      "Epoch 9/50\n",
      "52470/52470 [==============================] - 84s 2ms/step - loss: 0.4430 - accuracy: 0.7917 - val_loss: 0.4378 - val_accuracy: 0.7921\n",
      "Epoch 10/50\n",
      "52470/52470 [==============================] - 82s 2ms/step - loss: 0.4408 - accuracy: 0.7926 - val_loss: 0.4559 - val_accuracy: 0.7781\n",
      "Epoch 11/50\n",
      "52470/52470 [==============================] - 72s 1ms/step - loss: 0.4404 - accuracy: 0.7922 - val_loss: 0.4368 - val_accuracy: 0.7924\n",
      "Epoch 12/50\n",
      "52470/52470 [==============================] - 90s 2ms/step - loss: 0.4388 - accuracy: 0.7932 - val_loss: 0.4378 - val_accuracy: 0.7943\n",
      "Epoch 13/50\n",
      "52470/52470 [==============================] - 92s 2ms/step - loss: 0.4376 - accuracy: 0.7933 - val_loss: 0.4292 - val_accuracy: 0.7970\n",
      "Epoch 14/50\n",
      "52470/52470 [==============================] - 69s 1ms/step - loss: 0.4367 - accuracy: 0.7941 - val_loss: 0.4703 - val_accuracy: 0.7620\n",
      "Epoch 15/50\n",
      "52470/52470 [==============================] - 69s 1ms/step - loss: 0.4353 - accuracy: 0.7945 - val_loss: 0.4319 - val_accuracy: 0.7953\n",
      "Epoch 16/50\n",
      "52470/52470 [==============================] - 69s 1ms/step - loss: 0.4301 - accuracy: 0.7962 - val_loss: 0.4176 - val_accuracy: 0.7986\n",
      "Epoch 17/50\n",
      "52470/52470 [==============================] - 69s 1ms/step - loss: 0.4261 - accuracy: 0.7972 - val_loss: 0.4142 - val_accuracy: 0.8069\n",
      "Epoch 18/50\n",
      "52470/52470 [==============================] - 69s 1ms/step - loss: 0.4251 - accuracy: 0.7978 - val_loss: 0.4266 - val_accuracy: 0.7888\n",
      "Epoch 19/50\n",
      "52470/52470 [==============================] - 69s 1ms/step - loss: 0.4243 - accuracy: 0.7978 - val_loss: 0.4577 - val_accuracy: 0.7617\n",
      "Epoch 20/50\n",
      "52470/52470 [==============================] - 69s 1ms/step - loss: 0.4234 - accuracy: 0.7981 - val_loss: 0.4698 - val_accuracy: 0.7923\n",
      "Epoch 21/50\n",
      "52470/52470 [==============================] - 77s 1ms/step - loss: 0.4223 - accuracy: 0.7988 - val_loss: 0.4182 - val_accuracy: 0.8026\n",
      "Epoch 22/50\n",
      "52470/52470 [==============================] - 69s 1ms/step - loss: 0.4208 - accuracy: 0.8001 - val_loss: 0.5516 - val_accuracy: 0.7645\n",
      "Epoch 23/50\n",
      "52470/52470 [==============================] - 68s 1ms/step - loss: 0.4197 - accuracy: 0.8009 - val_loss: 0.4078 - val_accuracy: 0.8074\n",
      "Epoch 24/50\n",
      "52470/52470 [==============================] - 69s 1ms/step - loss: 0.4183 - accuracy: 0.8017 - val_loss: 0.4060 - val_accuracy: 0.8053\n",
      "Epoch 25/50\n",
      "52470/52470 [==============================] - 76s 1ms/step - loss: 0.4174 - accuracy: 0.8025 - val_loss: 0.4271 - val_accuracy: 0.7947\n",
      "Epoch 26/50\n",
      "52470/52470 [==============================] - 78s 1ms/step - loss: 0.4166 - accuracy: 0.8030 - val_loss: 0.4132 - val_accuracy: 0.7997\n",
      "Epoch 27/50\n",
      "52470/52470 [==============================] - 75s 1ms/step - loss: 0.4161 - accuracy: 0.8035 - val_loss: 0.4061 - val_accuracy: 0.8113\n",
      "Epoch 28/50\n",
      "52470/52470 [==============================] - 73s 1ms/step - loss: 0.4152 - accuracy: 0.8035 - val_loss: 0.4135 - val_accuracy: 0.8014\n",
      "Epoch 29/50\n",
      "52470/52470 [==============================] - 95s 2ms/step - loss: 0.4145 - accuracy: 0.8039 - val_loss: 0.4050 - val_accuracy: 0.8089\n",
      "Epoch 30/50\n",
      "52470/52470 [==============================] - 114s 2ms/step - loss: 0.4139 - accuracy: 0.8045 - val_loss: 0.4075 - val_accuracy: 0.8066\n",
      "Epoch 31/50\n",
      "52470/52470 [==============================] - 93s 2ms/step - loss: 0.4138 - accuracy: 0.8041 - val_loss: 0.4286 - val_accuracy: 0.8050\n",
      "Epoch 32/50\n",
      "52470/52470 [==============================] - 86s 2ms/step - loss: 0.4131 - accuracy: 0.8042 - val_loss: 0.4041 - val_accuracy: 0.8083\n",
      "Epoch 33/50\n",
      "52470/52470 [==============================] - 74s 1ms/step - loss: 0.4128 - accuracy: 0.8052 - val_loss: 0.4163 - val_accuracy: 0.8060\n",
      "Epoch 34/50\n",
      "52470/52470 [==============================] - 77s 1ms/step - loss: 0.4129 - accuracy: 0.8052 - val_loss: 0.4049 - val_accuracy: 0.8070\n",
      "Epoch 35/50\n",
      "52470/52470 [==============================] - 78s 1ms/step - loss: 0.4124 - accuracy: 0.8055 - val_loss: 0.4152 - val_accuracy: 0.8067\n",
      "Epoch 36/50\n",
      "52470/52470 [==============================] - 73s 1ms/step - loss: 0.4119 - accuracy: 0.8050 - val_loss: 0.4042 - val_accuracy: 0.8062\n",
      "Epoch 37/50\n",
      "52470/52470 [==============================] - 79s 2ms/step - loss: 0.4119 - accuracy: 0.8055 - val_loss: 0.4038 - val_accuracy: 0.8116\n",
      "Epoch 38/50\n",
      "52470/52470 [==============================] - 76s 1ms/step - loss: 0.4116 - accuracy: 0.8057 - val_loss: 0.4050 - val_accuracy: 0.8099\n",
      "Epoch 39/50\n",
      "52470/52470 [==============================] - 72s 1ms/step - loss: 0.4110 - accuracy: 0.8054 - val_loss: 0.4131 - val_accuracy: 0.8012\n",
      "Epoch 40/50\n",
      "52470/52470 [==============================] - 74s 1ms/step - loss: 0.4109 - accuracy: 0.8053 - val_loss: 0.4048 - val_accuracy: 0.8105\n",
      "Epoch 41/50\n",
      "52470/52470 [==============================] - 75s 1ms/step - loss: 0.4106 - accuracy: 0.8057 - val_loss: 0.4047 - val_accuracy: 0.8110\n",
      "Epoch 42/50\n",
      "52470/52470 [==============================] - 73s 1ms/step - loss: 0.4106 - accuracy: 0.8059 - val_loss: 0.4096 - val_accuracy: 0.8096\n",
      "Epoch 43/50\n",
      "52470/52470 [==============================] - 72s 1ms/step - loss: 0.4102 - accuracy: 0.8064 - val_loss: 0.4055 - val_accuracy: 0.8098\n",
      "Epoch 44/50\n",
      "52470/52470 [==============================] - 78s 1ms/step - loss: 0.4102 - accuracy: 0.8061 - val_loss: 0.4008 - val_accuracy: 0.8095\n",
      "Epoch 45/50\n",
      "52470/52470 [==============================] - 71s 1ms/step - loss: 0.4098 - accuracy: 0.8068 - val_loss: 0.4024 - val_accuracy: 0.8112\n",
      "Epoch 46/50\n",
      "52470/52470 [==============================] - 77s 1ms/step - loss: 0.4098 - accuracy: 0.8061 - val_loss: 0.4080 - val_accuracy: 0.8066\n",
      "Epoch 47/50\n",
      "52470/52470 [==============================] - 74s 1ms/step - loss: 0.4097 - accuracy: 0.8067 - val_loss: 0.4039 - val_accuracy: 0.8097\n",
      "Epoch 48/50\n",
      "52470/52470 [==============================] - 64s 1ms/step - loss: 0.4095 - accuracy: 0.8064 - val_loss: 0.4025 - val_accuracy: 0.8113\n",
      "Epoch 49/50\n",
      "52470/52470 [==============================] - 68s 1ms/step - loss: 0.4093 - accuracy: 0.8068 - val_loss: 0.4157 - val_accuracy: 0.7983\n",
      "Epoch 50/50\n",
      "52470/52470 [==============================] - 71s 1ms/step - loss: 0.4094 - accuracy: 0.8066 - val_loss: 0.4071 - val_accuracy: 0.8056\n"
     ]
    }
   ],
   "source": [
    "hist = model.fit(trnx, trny, validation_data=(tstx, tsty), batch_size=10, epochs=50)"
   ]
  },
  {
   "cell_type": "code",
   "execution_count": 25,
   "metadata": {
    "scrolled": false
   },
   "outputs": [
    {
     "data": {
      "image/png": "[encoded data removed]",
      "text/plain": [
       "<Figure size 864x576 with 1 Axes>"
      ]
     },
     "metadata": {
      "needs_background": "light"
     },
     "output_type": "display_data"
    }
   ],
   "source": [
    "import matplotlib.pyplot as plt\n",
    "%matplotlib inline\n",
    "\n",
    "plt.figure(figsize=(12,8))\n",
    "plt.plot(hist.history['accuracy'])\n",
    "plt.plot(hist.history['val_accuracy'])\n",
    "plt.legend(['loss','val_loss', 'accuracy','val_accuracy'])\n",
    "plt.grid()\n",
    "plt.show()"
   ]
  },
  {
   "cell_type": "code",
   "execution_count": 26,
   "metadata": {},
   "outputs": [
    {
     "data": {
      "image/png": "[encoded data removed]",
      "text/plain": [
       "<Figure size 864x576 with 1 Axes>"
      ]
     },
     "metadata": {
      "needs_background": "light"
     },
     "output_type": "display_data"
    }
   ],
   "source": [
    "import matplotlib.pyplot as plt\n",
    "%matplotlib inline\n",
    "\n",
    "plt.figure(figsize=(12,8))\n",
    "plt.plot(hist.history['loss'])\n",
    "plt.plot(hist.history['val_loss'])\n",
    "plt.legend(['loss','val_loss', 'accuracy','val_accuracy'])\n",
    "plt.grid()\n",
    "plt.show()"
   ]
  },
  {
   "cell_type": "markdown",
   "metadata": {},
   "source": [
    "## 30개의 test data를 이용해 예측이 잘 되는지 정확도 확인"
   ]
  },
  {
   "cell_type": "code",
   "execution_count": 27,
   "metadata": {},
   "outputs": [],
   "source": [
    "test_x = test.iloc[:,1:]\n",
    "test_y = test.iloc[:,0]"
   ]
  },
  {
   "cell_type": "code",
   "execution_count": 28,
   "metadata": {
    "scrolled": false
   },
   "outputs": [],
   "source": [
    "encoder =  LabelEncoder()\n",
    "y1 = encoder.fit_transform(test_y)\n",
    "test_y = pd.get_dummies(y1).values"
   ]
  },
  {
   "cell_type": "code",
   "execution_count": 29,
   "metadata": {},
   "outputs": [],
   "source": [
    "test_x = scaler.transform(test_x)"
   ]
  },
  {
   "cell_type": "code",
   "execution_count": 30,
   "metadata": {},
   "outputs": [
    {
     "name": "stdout",
     "output_type": "stream",
     "text": [
      "4/4 [==============================] - 0s 833us/step - loss: 0.4412 - accuracy: 0.7700\n",
      "Accuracy = 0.77\n"
     ]
    }
   ],
   "source": [
    "loss, accuracy = model.evaluate(test_x, test_y)\n",
    "print(\"Accuracy = {:.2f}\".format(accuracy))"
   ]
  },
  {
   "cell_type": "code",
   "execution_count": 33,
   "metadata": {
    "scrolled": false
   },
   "outputs": [
    {
     "name": "stdout",
     "output_type": "stream",
     "text": [
      "0.77\n"
     ]
    }
   ],
   "source": [
    "from sklearn.metrics import accuracy_score\n",
    "pred_out = model.predict(test_x)\n",
    "\n",
    "y_real =[]\n",
    "y_pred=[]\n",
    "class_names=['F','M']\n",
    "\n",
    "for i,pred in zip(range(0, len(pred_out)), pred_out) :\n",
    "    y_real.append(class_names.index(class_names[test_y[i,1]]))\n",
    "    y_pred.append(np.argmax(pred))\n",
    "    \n",
    "# get the accuracy\n",
    "print (accuracy_score(y_real, y_pred))"
   ]
  },
  {
   "cell_type": "code",
   "execution_count": 34,
   "metadata": {
    "scrolled": true
   },
   "outputs": [
    {
     "data": {
      "text/plain": [
       "array([[ 4,  0],\n",
       "       [23, 73]])"
      ]
     },
     "execution_count": 34,
     "metadata": {},
     "output_type": "execute_result"
    }
   ],
   "source": [
    "from sklearn.metrics import confusion_matrix\n",
    "confusion_matrix(y_real, y_pred)"
   ]
  },
  {
   "cell_type": "code",
   "execution_count": 35,
   "metadata": {},
   "outputs": [],
   "source": [
    "tn, fp, fn, tp = confusion_matrix(y_real, y_pred).ravel()"
   ]
  },
  {
   "cell_type": "code",
   "execution_count": 36,
   "metadata": {},
   "outputs": [],
   "source": [
    "accuracy = (tp+tn) / (tp+tn+fp+fn)\n",
    "precision = tp / (tp+fp)\n",
    "recall = tp / (tp+fn)\n",
    "false_alarm = fp / (fp+tn)\n",
    "tpr = tp / (tp+fn)\n",
    "tnr = tn / (tn+fp)\n",
    "fpr = fp / (fp+tn)\n",
    "fnr = fn / (tp+fn)"
   ]
  },
  {
   "cell_type": "code",
   "execution_count": 37,
   "metadata": {
    "scrolled": true
   },
   "outputs": [
    {
     "name": "stdout",
     "output_type": "stream",
     "text": [
      "accuracy: 0.77\n",
      "precision: 1.0\n",
      "recall: 0.7604166666666666\n",
      "false_alarm: 0.0\n",
      "true positive rate: 0.7604166666666666\n",
      "true negative rate: 1.0\n",
      "false positive rate: 0.0\n",
      "false negative rate: 0.23958333333333334\n"
     ]
    }
   ],
   "source": [
    "print(\"accuracy:\",accuracy)\n",
    "print(\"precision:\",precision)\n",
    "print(\"recall:\",recall)\n",
    "print(\"false_alarm:\",false_alarm)\n",
    "print(\"true positive rate:\",tpr)\n",
    "print(\"true negative rate:\",tnr)\n",
    "print(\"false positive rate:\",fpr)\n",
    "print(\"false negative rate:\",fnr)"
   ]
  },
  {
   "cell_type": "code",
   "execution_count": 52,
   "metadata": {},
   "outputs": [
    {
     "name": "stdout",
     "output_type": "stream",
     "text": [
      "              precision    recall  f1-score   support\n",
      "\n",
      "           F       0.15      1.00      0.26         4\n",
      "           M       1.00      0.76      0.86        96\n",
      "\n",
      "    accuracy                           0.77       100\n",
      "   macro avg       0.57      0.88      0.56       100\n",
      "weighted avg       0.97      0.77      0.84       100\n",
      "\n"
     ]
    }
   ],
   "source": [
    "from sklearn.metrics import classification_report\n",
    "print(classification_report(y_real, y_pred, target_names=['F', 'M']))"
   ]
  },
  {
   "cell_type": "markdown",
   "metadata": {},
   "source": [
    "### 성별이 없는 데이터를 input으로 이용해 성별 측정 후 기존 데이터와 합쳐 csv파일 생성"
   ]
  },
  {
   "cell_type": "code",
   "execution_count": 38,
   "metadata": {},
   "outputs": [],
   "source": [
    "idx_n = genderless[genderless['운동량']=='\\\\N'].index\n",
    "genderless = genderless.drop(idx_n)\n",
    "genderless['운동량'] = pd.to_numeric(genderless['운동량'])"
   ]
  },
  {
   "cell_type": "code",
   "execution_count": 39,
   "metadata": {},
   "outputs": [],
   "source": [
    "idx_n = genderless[genderless['탄소량']=='\\\\N'].index\n",
    "genderless = genderless.drop(idx_n)\n",
    "genderless['탄소량'] = pd.to_numeric(genderless['탄소량'])"
   ]
  },
  {
   "cell_type": "code",
   "execution_count": 40,
   "metadata": {},
   "outputs": [
    {
     "data": {
      "text/html": [
       "<div>\n",
       "<style scoped>\n",
       "    .dataframe tbody tr th:only-of-type {\n",
       "        vertical-align: middle;\n",
       "    }\n",
       "\n",
       "    .dataframe tbody tr th {\n",
       "        vertical-align: top;\n",
       "    }\n",
       "\n",
       "    .dataframe thead th {\n",
       "        text-align: right;\n",
       "    }\n",
       "</style>\n",
       "<table border=\"1\" class=\"dataframe\">\n",
       "  <thead>\n",
       "    <tr style=\"text-align: right;\">\n",
       "      <th></th>\n",
       "      <th>성별</th>\n",
       "      <th>이용건수</th>\n",
       "      <th>운동량</th>\n",
       "      <th>탄소량</th>\n",
       "      <th>이동거리</th>\n",
       "      <th>사용시간</th>\n",
       "    </tr>\n",
       "  </thead>\n",
       "  <tbody>\n",
       "    <tr>\n",
       "      <th>392875</th>\n",
       "      <td>NaN</td>\n",
       "      <td>1</td>\n",
       "      <td>11.07</td>\n",
       "      <td>0.10</td>\n",
       "      <td>430</td>\n",
       "      <td>2</td>\n",
       "    </tr>\n",
       "    <tr>\n",
       "      <th>392876</th>\n",
       "      <td>NaN</td>\n",
       "      <td>1</td>\n",
       "      <td>35.20</td>\n",
       "      <td>0.29</td>\n",
       "      <td>1270</td>\n",
       "      <td>5</td>\n",
       "    </tr>\n",
       "    <tr>\n",
       "      <th>392877</th>\n",
       "      <td>NaN</td>\n",
       "      <td>2</td>\n",
       "      <td>341.19</td>\n",
       "      <td>3.46</td>\n",
       "      <td>14890</td>\n",
       "      <td>74</td>\n",
       "    </tr>\n",
       "    <tr>\n",
       "      <th>392878</th>\n",
       "      <td>NaN</td>\n",
       "      <td>1</td>\n",
       "      <td>147.33</td>\n",
       "      <td>1.22</td>\n",
       "      <td>5240</td>\n",
       "      <td>28</td>\n",
       "    </tr>\n",
       "    <tr>\n",
       "      <th>392879</th>\n",
       "      <td>NaN</td>\n",
       "      <td>1</td>\n",
       "      <td>34.91</td>\n",
       "      <td>0.35</td>\n",
       "      <td>1520</td>\n",
       "      <td>9</td>\n",
       "    </tr>\n",
       "  </tbody>\n",
       "</table>\n",
       "</div>"
      ],
      "text/plain": [
       "         성별  이용건수     운동량   탄소량   이동거리  사용시간\n",
       "392875  NaN     1   11.07  0.10    430     2\n",
       "392876  NaN     1   35.20  0.29   1270     5\n",
       "392877  NaN     2  341.19  3.46  14890    74\n",
       "392878  NaN     1  147.33  1.22   5240    28\n",
       "392879  NaN     1   34.91  0.35   1520     9"
      ]
     },
     "execution_count": 40,
     "metadata": {},
     "output_type": "execute_result"
    }
   ],
   "source": [
    "pred_dataset = genderless[['성별','이용건수', '운동량', '탄소량','이동거리','사용시간']]\n",
    "pred_dataset.head(5)"
   ]
  },
  {
   "cell_type": "code",
   "execution_count": 41,
   "metadata": {
    "scrolled": true
   },
   "outputs": [
    {
     "data": {
      "text/plain": [
       "(273335, 6)"
      ]
     },
     "execution_count": 41,
     "metadata": {},
     "output_type": "execute_result"
    }
   ],
   "source": [
    "pred_dataset.shape"
   ]
  },
  {
   "cell_type": "code",
   "execution_count": 42,
   "metadata": {},
   "outputs": [
    {
     "name": "stderr",
     "output_type": "stream",
     "text": [
      "/home/una/miniconda3/envs/py/lib/python3.7/site-packages/ipykernel_launcher.py:1: SettingWithCopyWarning: \n",
      "A value is trying to be set on a copy of a slice from a DataFrame.\n",
      "Try using .loc[row_indexer,col_indexer] = value instead\n",
      "\n",
      "See the caveats in the documentation: https://pandas.pydata.org/pandas-docs/stable/user_guide/indexing.html#returning-a-view-versus-a-copy\n",
      "  \"\"\"Entry point for launching an IPython kernel.\n",
      "/home/una/miniconda3/envs/py/lib/python3.7/site-packages/ipykernel_launcher.py:2: SettingWithCopyWarning: \n",
      "A value is trying to be set on a copy of a slice from a DataFrame.\n",
      "Try using .loc[row_indexer,col_indexer] = value instead\n",
      "\n",
      "See the caveats in the documentation: https://pandas.pydata.org/pandas-docs/stable/user_guide/indexing.html#returning-a-view-versus-a-copy\n",
      "  \n",
      "/home/una/miniconda3/envs/py/lib/python3.7/site-packages/ipykernel_launcher.py:3: SettingWithCopyWarning: \n",
      "A value is trying to be set on a copy of a slice from a DataFrame.\n",
      "Try using .loc[row_indexer,col_indexer] = value instead\n",
      "\n",
      "See the caveats in the documentation: https://pandas.pydata.org/pandas-docs/stable/user_guide/indexing.html#returning-a-view-versus-a-copy\n",
      "  This is separate from the ipykernel package so we can avoid doing imports until\n",
      "/home/una/miniconda3/envs/py/lib/python3.7/site-packages/ipykernel_launcher.py:4: SettingWithCopyWarning: \n",
      "A value is trying to be set on a copy of a slice from a DataFrame.\n",
      "Try using .loc[row_indexer,col_indexer] = value instead\n",
      "\n",
      "See the caveats in the documentation: https://pandas.pydata.org/pandas-docs/stable/user_guide/indexing.html#returning-a-view-versus-a-copy\n",
      "  after removing the cwd from sys.path.\n"
     ]
    }
   ],
   "source": [
    "pred_dataset['탄소량'] = pd.to_numeric(pred_dataset['탄소량'] / pred_dataset['이용건수'])\n",
    "pred_dataset['운동량'] = pd.to_numeric(pred_dataset['운동량'] / pred_dataset['이용건수'])\n",
    "pred_dataset['사용시간'] = pd.to_numeric(pred_dataset['사용시간'] / pred_dataset['이용건수'])\n",
    "pred_dataset['이동거리'] = pd.to_numeric(pred_dataset['이동거리'] / pred_dataset['이용건수'])\n",
    "del pred_dataset['이용건수']"
   ]
  },
  {
   "cell_type": "code",
   "execution_count": 43,
   "metadata": {},
   "outputs": [],
   "source": [
    "pred_dataset = pred_dataset.iloc[:,1:]"
   ]
  },
  {
   "cell_type": "code",
   "execution_count": 44,
   "metadata": {},
   "outputs": [],
   "source": [
    "pred_out_data = model.predict(pred_dataset)"
   ]
  },
  {
   "cell_type": "code",
   "execution_count": 45,
   "metadata": {},
   "outputs": [],
   "source": [
    "pred_out_class = []\n",
    "for i,pred in zip(range(0, len(pred_out_data)), pred_out_data) :\n",
    "    pred_out_class.append(class_names[np.argmax(pred)])"
   ]
  },
  {
   "cell_type": "code",
   "execution_count": 46,
   "metadata": {},
   "outputs": [],
   "source": [
    "pred_out_class = np.array(pred_out_class)"
   ]
  },
  {
   "cell_type": "code",
   "execution_count": 47,
   "metadata": {},
   "outputs": [],
   "source": [
    "genderless['성별'] = pred_out_class.T"
   ]
  },
  {
   "cell_type": "code",
   "execution_count": 48,
   "metadata": {},
   "outputs": [],
   "source": [
    "pred_gender_data = np.concatenate((gender,genderless),axis=0)"
   ]
  },
  {
   "cell_type": "code",
   "execution_count": 49,
   "metadata": {},
   "outputs": [],
   "source": [
    "header=['대여일자','대여시간','대여소번호','대여소명','대여구분코드','성별','연령대코드','이용건수','운동량','탄소량','이동거리','사용시간']\n",
    "dataframe = pd.DataFrame(pred_gender_data)\n",
    "dataframe.to_csv(\"./data/서울특별시_공공자전거_시간대별_대여정보_201812_201905(6)_new.csv\",header=header, index=False, encoding='utf-8-sig')"
   ]
  }
 ],
 "metadata": {
  "kernelspec": {
   "display_name": "Python 3",
   "language": "python",
   "name": "python3"
  },
  "language_info": {
   "codemirror_mode": {
    "name": "ipython",
    "version": 3
   },
   "file_extension": ".py",
   "mimetype": "text/x-python",
   "name": "python",
   "nbconvert_exporter": "python",
   "pygments_lexer": "ipython3",
   "version": "3.7.7"
  }
 },
 "nbformat": 4,
 "nbformat_minor": 4
}
